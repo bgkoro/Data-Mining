{
  "nbformat": 4,
  "nbformat_minor": 0,
  "metadata": {
    "colab": {
      "name": "DecisionTreeIris.ipynb",
      "provenance": []
    },
    "kernelspec": {
      "name": "python3",
      "display_name": "Python 3"
    },
    "language_info": {
      "name": "python"
    }
  },
  "cells": [
    {
      "cell_type": "code",
      "metadata": {
        "id": "qv_b-Dhl5M73"
      },
      "source": [
        "import numpy as np\n",
        "import pandas as pd\n",
        "from sklearn import tree"
      ],
      "execution_count": 1,
      "outputs": []
    },
    {
      "cell_type": "code",
      "metadata": {
        "id": "Ud0-YRh35b_O"
      },
      "source": [
        "irisDataset = pd.read_csv('dataset_iris.csv', delimiter=';', header=0)"
      ],
      "execution_count": 2,
      "outputs": []
    },
    {
      "cell_type": "code",
      "metadata": {
        "colab": {
          "base_uri": "https://localhost:8080/",
          "height": 204
        },
        "id": "0ea-xjLv6JZN",
        "outputId": "856f95b9-077b-4c70-c99c-f29056dffb24"
      },
      "source": [
        "irisDataset.head()"
      ],
      "execution_count": 5,
      "outputs": [
        {
          "output_type": "execute_result",
          "data": {
            "text/html": [
              "<div>\n",
              "<style scoped>\n",
              "    .dataframe tbody tr th:only-of-type {\n",
              "        vertical-align: middle;\n",
              "    }\n",
              "\n",
              "    .dataframe tbody tr th {\n",
              "        vertical-align: top;\n",
              "    }\n",
              "\n",
              "    .dataframe thead th {\n",
              "        text-align: right;\n",
              "    }\n",
              "</style>\n",
              "<table border=\"1\" class=\"dataframe\">\n",
              "  <thead>\n",
              "    <tr style=\"text-align: right;\">\n",
              "      <th></th>\n",
              "      <th>Id</th>\n",
              "      <th>SepalLengthCm</th>\n",
              "      <th>SepalWidthCm</th>\n",
              "      <th>PetalLengthCm</th>\n",
              "      <th>PetalWidthCm</th>\n",
              "      <th>Species</th>\n",
              "      <th>spesies</th>\n",
              "    </tr>\n",
              "  </thead>\n",
              "  <tbody>\n",
              "    <tr>\n",
              "      <th>0</th>\n",
              "      <td>1</td>\n",
              "      <td>10.00</td>\n",
              "      <td>3.10</td>\n",
              "      <td>4.10</td>\n",
              "      <td>1.04</td>\n",
              "      <td>Iris-virginica</td>\n",
              "      <td>0</td>\n",
              "    </tr>\n",
              "    <tr>\n",
              "      <th>1</th>\n",
              "      <td>2</td>\n",
              "      <td>6.05</td>\n",
              "      <td>5.02</td>\n",
              "      <td>5.05</td>\n",
              "      <td>1.05</td>\n",
              "      <td>Iris-versicolor</td>\n",
              "      <td>1</td>\n",
              "    </tr>\n",
              "    <tr>\n",
              "      <th>2</th>\n",
              "      <td>3</td>\n",
              "      <td>6.09</td>\n",
              "      <td>3.01</td>\n",
              "      <td>4.09</td>\n",
              "      <td>1.05</td>\n",
              "      <td>Iris-virginica</td>\n",
              "      <td>0</td>\n",
              "    </tr>\n",
              "    <tr>\n",
              "      <th>3</th>\n",
              "      <td>4</td>\n",
              "      <td>5.05</td>\n",
              "      <td>2.03</td>\n",
              "      <td>3.00</td>\n",
              "      <td>1.03</td>\n",
              "      <td>Iris-versicolor</td>\n",
              "      <td>1</td>\n",
              "    </tr>\n",
              "    <tr>\n",
              "      <th>4</th>\n",
              "      <td>5</td>\n",
              "      <td>6.04</td>\n",
              "      <td>1.08</td>\n",
              "      <td>4.04</td>\n",
              "      <td>1.05</td>\n",
              "      <td>Iris-versicolor</td>\n",
              "      <td>1</td>\n",
              "    </tr>\n",
              "  </tbody>\n",
              "</table>\n",
              "</div>"
            ],
            "text/plain": [
              "   Id  SepalLengthCm  SepalWidthCm  ...  PetalWidthCm          Species spesies\n",
              "0   1          10.00          3.10  ...          1.04   Iris-virginica       0\n",
              "1   2           6.05          5.02  ...          1.05  Iris-versicolor       1\n",
              "2   3           6.09          3.01  ...          1.05   Iris-virginica       0\n",
              "3   4           5.05          2.03  ...          1.03  Iris-versicolor       1\n",
              "4   5           6.04          1.08  ...          1.05  Iris-versicolor       1\n",
              "\n",
              "[5 rows x 7 columns]"
            ]
          },
          "metadata": {
            "tags": []
          },
          "execution_count": 5
        }
      ]
    },
    {
      "cell_type": "code",
      "metadata": {
        "id": "w4lp6cDc5sjs"
      },
      "source": [
        "irisDataset[\"spesies\"] = pd.factorize(irisDataset.Species)[0]"
      ],
      "execution_count": 6,
      "outputs": []
    },
    {
      "cell_type": "code",
      "metadata": {
        "colab": {
          "base_uri": "https://localhost:8080/",
          "height": 204
        },
        "id": "BZBoiXuX6SQT",
        "outputId": "b27f5e97-3bfc-4c7b-faee-bd0d5f61f2fc"
      },
      "source": [
        "irisDataset.head()"
      ],
      "execution_count": 7,
      "outputs": [
        {
          "output_type": "execute_result",
          "data": {
            "text/html": [
              "<div>\n",
              "<style scoped>\n",
              "    .dataframe tbody tr th:only-of-type {\n",
              "        vertical-align: middle;\n",
              "    }\n",
              "\n",
              "    .dataframe tbody tr th {\n",
              "        vertical-align: top;\n",
              "    }\n",
              "\n",
              "    .dataframe thead th {\n",
              "        text-align: right;\n",
              "    }\n",
              "</style>\n",
              "<table border=\"1\" class=\"dataframe\">\n",
              "  <thead>\n",
              "    <tr style=\"text-align: right;\">\n",
              "      <th></th>\n",
              "      <th>Id</th>\n",
              "      <th>SepalLengthCm</th>\n",
              "      <th>SepalWidthCm</th>\n",
              "      <th>PetalLengthCm</th>\n",
              "      <th>PetalWidthCm</th>\n",
              "      <th>Species</th>\n",
              "      <th>spesies</th>\n",
              "    </tr>\n",
              "  </thead>\n",
              "  <tbody>\n",
              "    <tr>\n",
              "      <th>0</th>\n",
              "      <td>1</td>\n",
              "      <td>10.00</td>\n",
              "      <td>3.10</td>\n",
              "      <td>4.10</td>\n",
              "      <td>1.04</td>\n",
              "      <td>Iris-virginica</td>\n",
              "      <td>0</td>\n",
              "    </tr>\n",
              "    <tr>\n",
              "      <th>1</th>\n",
              "      <td>2</td>\n",
              "      <td>6.05</td>\n",
              "      <td>5.02</td>\n",
              "      <td>5.05</td>\n",
              "      <td>1.05</td>\n",
              "      <td>Iris-versicolor</td>\n",
              "      <td>1</td>\n",
              "    </tr>\n",
              "    <tr>\n",
              "      <th>2</th>\n",
              "      <td>3</td>\n",
              "      <td>6.09</td>\n",
              "      <td>3.01</td>\n",
              "      <td>4.09</td>\n",
              "      <td>1.05</td>\n",
              "      <td>Iris-virginica</td>\n",
              "      <td>0</td>\n",
              "    </tr>\n",
              "    <tr>\n",
              "      <th>3</th>\n",
              "      <td>4</td>\n",
              "      <td>5.05</td>\n",
              "      <td>2.03</td>\n",
              "      <td>3.00</td>\n",
              "      <td>1.03</td>\n",
              "      <td>Iris-versicolor</td>\n",
              "      <td>1</td>\n",
              "    </tr>\n",
              "    <tr>\n",
              "      <th>4</th>\n",
              "      <td>5</td>\n",
              "      <td>6.04</td>\n",
              "      <td>1.08</td>\n",
              "      <td>4.04</td>\n",
              "      <td>1.05</td>\n",
              "      <td>Iris-versicolor</td>\n",
              "      <td>1</td>\n",
              "    </tr>\n",
              "  </tbody>\n",
              "</table>\n",
              "</div>"
            ],
            "text/plain": [
              "   Id  SepalLengthCm  SepalWidthCm  ...  PetalWidthCm          Species spesies\n",
              "0   1          10.00          3.10  ...          1.04   Iris-virginica       0\n",
              "1   2           6.05          5.02  ...          1.05  Iris-versicolor       1\n",
              "2   3           6.09          3.01  ...          1.05   Iris-virginica       0\n",
              "3   4           5.05          2.03  ...          1.03  Iris-versicolor       1\n",
              "4   5           6.04          1.08  ...          1.05  Iris-versicolor       1\n",
              "\n",
              "[5 rows x 7 columns]"
            ]
          },
          "metadata": {
            "tags": []
          },
          "execution_count": 7
        }
      ]
    },
    {
      "cell_type": "code",
      "metadata": {
        "colab": {
          "base_uri": "https://localhost:8080/"
        },
        "id": "9frE_Y_c6Yn6",
        "outputId": "48f88c8f-7313-4931-aa24-4eca869d6a36"
      },
      "source": [
        "print(irisDataset)"
      ],
      "execution_count": 8,
      "outputs": [
        {
          "output_type": "stream",
          "text": [
            "     Id  SepalLengthCm  SepalWidthCm  ...  PetalWidthCm          Species spesies\n",
            "0     1          10.00          3.10  ...          1.04   Iris-virginica       0\n",
            "1     2           6.05          5.02  ...          1.05  Iris-versicolor       1\n",
            "2     3           6.09          3.01  ...          1.05   Iris-virginica       0\n",
            "3     4           5.05          2.03  ...          1.03  Iris-versicolor       1\n",
            "4     5           6.04          1.08  ...          1.05  Iris-versicolor       1\n",
            "..  ...            ...           ...  ...           ...              ...     ...\n",
            "95   96           6.07          3.00  ...          2.03   Iris-virginica       0\n",
            "96   97           6.03          2.05  ...          1.09   Iris-virginica       0\n",
            "97   98           6.05          3.00  ...          2.00  Iris-versicolor       1\n",
            "98   99           6.02          3.04  ...          2.03  Iris-versicolor       1\n",
            "99  100           5.09          3.00  ...          1.08  Iris-versicolor       1\n",
            "\n",
            "[100 rows x 7 columns]\n"
          ],
          "name": "stdout"
        }
      ]
    },
    {
      "cell_type": "code",
      "metadata": {
        "id": "Brr1qLkB56Pr"
      },
      "source": [
        "irisDataset = irisDataset.drop(labels=\"Id\", axis=1)"
      ],
      "execution_count": 9,
      "outputs": []
    },
    {
      "cell_type": "code",
      "metadata": {
        "colab": {
          "base_uri": "https://localhost:8080/"
        },
        "id": "ZD3IOioi6g1L",
        "outputId": "9fe1f9dc-c95c-4679-8ef6-2d5860e66800"
      },
      "source": [
        "print(irisDataset)"
      ],
      "execution_count": 10,
      "outputs": [
        {
          "output_type": "stream",
          "text": [
            "    SepalLengthCm  SepalWidthCm  ...          Species  spesies\n",
            "0           10.00          3.10  ...   Iris-virginica        0\n",
            "1            6.05          5.02  ...  Iris-versicolor        1\n",
            "2            6.09          3.01  ...   Iris-virginica        0\n",
            "3            5.05          2.03  ...  Iris-versicolor        1\n",
            "4            6.04          1.08  ...  Iris-versicolor        1\n",
            "..            ...           ...  ...              ...      ...\n",
            "95           6.07          3.00  ...   Iris-virginica        0\n",
            "96           6.03          2.05  ...   Iris-virginica        0\n",
            "97           6.05          3.00  ...  Iris-versicolor        1\n",
            "98           6.02          3.04  ...  Iris-versicolor        1\n",
            "99           5.09          3.00  ...  Iris-versicolor        1\n",
            "\n",
            "[100 rows x 6 columns]\n"
          ],
          "name": "stdout"
        }
      ]
    },
    {
      "cell_type": "code",
      "metadata": {
        "id": "kRdj-78t6l6X"
      },
      "source": [
        "irisDataset = irisDataset.to_numpy()"
      ],
      "execution_count": 11,
      "outputs": []
    },
    {
      "cell_type": "code",
      "metadata": {
        "colab": {
          "base_uri": "https://localhost:8080/"
        },
        "id": "a6w5fwVx6tFW",
        "outputId": "eea827c5-a2f0-4526-fc85-c3f79c941122"
      },
      "source": [
        "print(irisDataset)"
      ],
      "execution_count": 12,
      "outputs": [
        {
          "output_type": "stream",
          "text": [
            "[[10.0 3.1 4.1 1.04 'Iris-virginica' 0]\n",
            " [6.05 5.02 5.05 1.05 'Iris-versicolor' 1]\n",
            " [6.09 3.01 4.09 1.05 'Iris-virginica' 0]\n",
            " [5.05 2.03 3.0 1.03 'Iris-versicolor' 1]\n",
            " [6.04 1.08 4.04 1.05 'Iris-versicolor' 1]\n",
            " [2.27 12.09 4.05 1.03 'Iris-versicolor' 1]\n",
            " [6.03 3.03 4.07 1.06 'Iris-virginica' 0]\n",
            " [4.09 2.04 3.03 1.0 'Iris-versicolor' 1]\n",
            " [6.06 2.09 4.06 1.03 'Iris-versicolor' 1]\n",
            " [5.02 2.07 3.09 1.04 'Iris-versicolor' 1]\n",
            " [5.0 2.0 3.05 1.0 'Iris-virginica' 0]\n",
            " [5.09 3.0 4.02 1.05 'Iris-versicolor' 1]\n",
            " [6.0 2.02 4.0 1.0 'Iris-versicolor' 1]\n",
            " [6.01 2.09 4.07 1.04 'Iris-virginica' 0]\n",
            " [5.06 2.09 3.06 1.03 'Iris-virginica' 0]\n",
            " [6.07 3.01 4.04 1.04 'Iris-virginica' 0]\n",
            " [5.06 3.0 4.05 1.05 'Iris-versicolor' 1]\n",
            " [5.08 2.07 4.01 1.0 'Iris-virginica' 0]\n",
            " [6.02 2.02 4.05 1.05 'Iris-versicolor' 1]\n",
            " [5.06 2.05 3.09 1.01 'Iris-versicolor' 1]\n",
            " [5.09 3.02 4.08 1.08 'Iris-versicolor' 1]\n",
            " [6.01 2.08 4.0 1.03 'Iris-versicolor' 1]\n",
            " [6.03 2.05 4.09 1.05 'Iris-versicolor' 1]\n",
            " [6.01 2.08 4.07 1.02 'Iris-versicolor' 1]\n",
            " [6.04 2.09 4.03 1.03 'Iris-versicolor' 1]\n",
            " [6.06 3.0 4.04 1.04 'Iris-versicolor' 1]\n",
            " [6.08 2.08 4.08 1.04 'Iris-versicolor' 1]\n",
            " [6.07 3.0 5.0 1.07 'Iris-versicolor' 1]\n",
            " [6.0 2.09 4.05 1.05 'Iris-versicolor' 1]\n",
            " [5.07 2.06 3.05 1.0 'Iris-versicolor' 1]\n",
            " [5.05 2.04 3.08 1.01 'Iris-versicolor' 1]\n",
            " [5.05 2.04 3.07 1.0 'Iris-versicolor' 1]\n",
            " [5.08 2.07 3.09 1.02 'Iris-versicolor' 1]\n",
            " [6.0 2.07 5.01 1.06 'Iris-versicolor' 1]\n",
            " [5.04 3.0 4.05 1.05 'Iris-versicolor' 1]\n",
            " [6.0 3.04 4.05 1.06 'Iris-versicolor' 1]\n",
            " [6.07 3.01 4.07 1.05 'Iris-versicolor' 1]\n",
            " [6.03 2.03 4.04 1.03 'Iris-versicolor' 1]\n",
            " [5.06 3.0 4.01 1.03 'Iris-versicolor' 1]\n",
            " [5.05 2.05 4.0 1.03 'Iris-versicolor' 1]\n",
            " [5.05 2.06 4.04 1.02 'Iris-versicolor' 1]\n",
            " [6.01 3.0 4.06 1.04 'Iris-versicolor' 1]\n",
            " [5.08 2.06 4.0 1.02 'Iris-versicolor' 1]\n",
            " [5.0 2.03 3.03 1.0 'Iris-versicolor' 1]\n",
            " [5.06 2.07 4.02 1.03 'Iris-versicolor' 1]\n",
            " [5.07 3.0 4.02 1.02 'Iris-versicolor' 1]\n",
            " [5.07 2.09 4.02 1.03 'Iris-versicolor' 1]\n",
            " [6.02 2.09 4.03 1.03 'Iris-versicolor' 1]\n",
            " [5.01 2.05 3.0 1.01 'Iris-versicolor' 1]\n",
            " [5.07 2.08 4.01 1.03 'Iris-versicolor' 1]\n",
            " [6.03 3.03 6.0 2.05 'Iris-virginica' 0]\n",
            " [5.08 2.07 5.01 1.09 'Iris-virginica' 0]\n",
            " [7.01 3.0 5.09 2.01 'Iris-virginica' 0]\n",
            " [6.03 2.09 5.06 1.08 'Iris-virginica' 0]\n",
            " [6.05 9.0 5.08 2.02 'Iris-virginica' 0]\n",
            " [7.06 4.0 6.06 2.01 'Iris-virginica' 0]\n",
            " [4.09 2.05 4.05 1.07 'Iris-virginica' 0]\n",
            " [7.03 2.09 6.03 1.08 'Iris-virginica' 0]\n",
            " [6.07 10.1 5.08 1.08 'Iris-versicolor' 1]\n",
            " [7.02 3.06 6.01 2.05 'Iris-virginica' 0]\n",
            " [6.05 3.02 5.01 2.0 'Iris-virginica' 0]\n",
            " [6.04 2.07 5.03 1.09 'Iris-virginica' 0]\n",
            " [6.08 3.0 5.05 2.01 'Iris-virginica' 0]\n",
            " [5.07 2.05 5.0 2.0 'Iris-virginica' 0]\n",
            " [5.08 2.08 5.01 2.04 'Iris-versicolor' 1]\n",
            " [6.04 3.02 5.03 2.03 'Iris-virginica' 0]\n",
            " [6.05 3.0 5.05 1.08 'Iris-virginica' 0]\n",
            " [7.07 3.08 6.07 2.02 'Iris-virginica' 0]\n",
            " [7.07 2.06 6.09 2.03 'Iris-virginica' 0]\n",
            " [6.0 2.02 5.0 1.05 'Iris-virginica' 0]\n",
            " [6.09 3.02 5.07 2.03 'Iris-versicolor' 1]\n",
            " [5.05 2.08 4.09 2.0 'Iris-virginica' 0]\n",
            " [7.07 2.08 6.07 2.0 'Iris-virginica' 0]\n",
            " [6.03 2.07 4.09 1.08 'Iris-virginica' 0]\n",
            " [6.07 3.03 5.07 2.01 'Iris-versicolor' 1]\n",
            " [7.02 3.02 6.0 1.08 'Iris-virginica' 0]\n",
            " [6.12 2.08 4.08 1.08 'Iris-virginica' 0]\n",
            " [6.01 3.0 4.09 1.01 'Iris-virginica' 0]\n",
            " [6.04 2.08 5.06 2.01 'Iris-virginica' 0]\n",
            " [7.02 3.0 5.08 1.06 'Iris-virginica' 0]\n",
            " [7.04 2.08 6.01 1.09 'Iris-virginica' 0]\n",
            " [7.09 3.12 6.03 2.0 'Iris-virginica' 0]\n",
            " [6.04 2.08 5.06 2.02 'Iris-virginica' 0]\n",
            " [6.03 2.08 5.01 1.05 'Iris-virginica' 0]\n",
            " [6.01 2.06 5.06 1.04 'Iris-versicolor' 1]\n",
            " [7.07 3.0 6.01 2.03 'Iris-virginica' 0]\n",
            " [6.03 3.04 5.06 2.04 'Iris-virginica' 0]\n",
            " [6.04 3.02 5.05 1.08 'Iris-versicolor' 1]\n",
            " [6.0 3.0 4.08 1.08 'Iris-virginica' 0]\n",
            " [6.09 3.01 4.04 2.01 'Iris-virginica' 0]\n",
            " [6.07 3.01 5.06 2.04 'Iris-virginica' 0]\n",
            " [0.0 3.04 5.01 2.02 'Iris-virginica' 0]\n",
            " [5.08 2.07 5.01 1.09 'Iris-virginica' 0]\n",
            " [6.08 3.02 5.09 2.03 'Iris-virginica' 0]\n",
            " [6.07 3.03 5.07 2.05 'Iris-versicolor' 1]\n",
            " [6.07 3.0 5.02 2.03 'Iris-virginica' 0]\n",
            " [6.03 2.05 5.0 1.09 'Iris-virginica' 0]\n",
            " [6.05 3.0 5.02 2.0 'Iris-versicolor' 1]\n",
            " [6.02 3.04 5.04 2.03 'Iris-versicolor' 1]\n",
            " [5.09 3.0 5.01 1.08 'Iris-versicolor' 1]]\n"
          ],
          "name": "stdout"
        }
      ]
    },
    {
      "cell_type": "code",
      "metadata": {
        "id": "_vNIjToE6wl5"
      },
      "source": [
        "dataTraining = np.concatenate((irisDataset[0:40, :], irisDataset[50:90, :]), axis=0)\n",
        "dataTesting = np.concatenate((irisDataset[40:50, :], irisDataset[90:100, :]), axis=0)"
      ],
      "execution_count": 13,
      "outputs": []
    },
    {
      "cell_type": "code",
      "metadata": {
        "colab": {
          "base_uri": "https://localhost:8080/"
        },
        "id": "AukK19X37LBg",
        "outputId": "96dd1c2c-9256-424d-96bf-53184be6b8e6"
      },
      "source": [
        "print(dataTraining)\n",
        "len(dataTraining)"
      ],
      "execution_count": 14,
      "outputs": [
        {
          "output_type": "stream",
          "text": [
            "[[10.0 3.1 4.1 1.04 'Iris-virginica' 0]\n",
            " [6.05 5.02 5.05 1.05 'Iris-versicolor' 1]\n",
            " [6.09 3.01 4.09 1.05 'Iris-virginica' 0]\n",
            " [5.05 2.03 3.0 1.03 'Iris-versicolor' 1]\n",
            " [6.04 1.08 4.04 1.05 'Iris-versicolor' 1]\n",
            " [2.27 12.09 4.05 1.03 'Iris-versicolor' 1]\n",
            " [6.03 3.03 4.07 1.06 'Iris-virginica' 0]\n",
            " [4.09 2.04 3.03 1.0 'Iris-versicolor' 1]\n",
            " [6.06 2.09 4.06 1.03 'Iris-versicolor' 1]\n",
            " [5.02 2.07 3.09 1.04 'Iris-versicolor' 1]\n",
            " [5.0 2.0 3.05 1.0 'Iris-virginica' 0]\n",
            " [5.09 3.0 4.02 1.05 'Iris-versicolor' 1]\n",
            " [6.0 2.02 4.0 1.0 'Iris-versicolor' 1]\n",
            " [6.01 2.09 4.07 1.04 'Iris-virginica' 0]\n",
            " [5.06 2.09 3.06 1.03 'Iris-virginica' 0]\n",
            " [6.07 3.01 4.04 1.04 'Iris-virginica' 0]\n",
            " [5.06 3.0 4.05 1.05 'Iris-versicolor' 1]\n",
            " [5.08 2.07 4.01 1.0 'Iris-virginica' 0]\n",
            " [6.02 2.02 4.05 1.05 'Iris-versicolor' 1]\n",
            " [5.06 2.05 3.09 1.01 'Iris-versicolor' 1]\n",
            " [5.09 3.02 4.08 1.08 'Iris-versicolor' 1]\n",
            " [6.01 2.08 4.0 1.03 'Iris-versicolor' 1]\n",
            " [6.03 2.05 4.09 1.05 'Iris-versicolor' 1]\n",
            " [6.01 2.08 4.07 1.02 'Iris-versicolor' 1]\n",
            " [6.04 2.09 4.03 1.03 'Iris-versicolor' 1]\n",
            " [6.06 3.0 4.04 1.04 'Iris-versicolor' 1]\n",
            " [6.08 2.08 4.08 1.04 'Iris-versicolor' 1]\n",
            " [6.07 3.0 5.0 1.07 'Iris-versicolor' 1]\n",
            " [6.0 2.09 4.05 1.05 'Iris-versicolor' 1]\n",
            " [5.07 2.06 3.05 1.0 'Iris-versicolor' 1]\n",
            " [5.05 2.04 3.08 1.01 'Iris-versicolor' 1]\n",
            " [5.05 2.04 3.07 1.0 'Iris-versicolor' 1]\n",
            " [5.08 2.07 3.09 1.02 'Iris-versicolor' 1]\n",
            " [6.0 2.07 5.01 1.06 'Iris-versicolor' 1]\n",
            " [5.04 3.0 4.05 1.05 'Iris-versicolor' 1]\n",
            " [6.0 3.04 4.05 1.06 'Iris-versicolor' 1]\n",
            " [6.07 3.01 4.07 1.05 'Iris-versicolor' 1]\n",
            " [6.03 2.03 4.04 1.03 'Iris-versicolor' 1]\n",
            " [5.06 3.0 4.01 1.03 'Iris-versicolor' 1]\n",
            " [5.05 2.05 4.0 1.03 'Iris-versicolor' 1]\n",
            " [6.03 3.03 6.0 2.05 'Iris-virginica' 0]\n",
            " [5.08 2.07 5.01 1.09 'Iris-virginica' 0]\n",
            " [7.01 3.0 5.09 2.01 'Iris-virginica' 0]\n",
            " [6.03 2.09 5.06 1.08 'Iris-virginica' 0]\n",
            " [6.05 9.0 5.08 2.02 'Iris-virginica' 0]\n",
            " [7.06 4.0 6.06 2.01 'Iris-virginica' 0]\n",
            " [4.09 2.05 4.05 1.07 'Iris-virginica' 0]\n",
            " [7.03 2.09 6.03 1.08 'Iris-virginica' 0]\n",
            " [6.07 10.1 5.08 1.08 'Iris-versicolor' 1]\n",
            " [7.02 3.06 6.01 2.05 'Iris-virginica' 0]\n",
            " [6.05 3.02 5.01 2.0 'Iris-virginica' 0]\n",
            " [6.04 2.07 5.03 1.09 'Iris-virginica' 0]\n",
            " [6.08 3.0 5.05 2.01 'Iris-virginica' 0]\n",
            " [5.07 2.05 5.0 2.0 'Iris-virginica' 0]\n",
            " [5.08 2.08 5.01 2.04 'Iris-versicolor' 1]\n",
            " [6.04 3.02 5.03 2.03 'Iris-virginica' 0]\n",
            " [6.05 3.0 5.05 1.08 'Iris-virginica' 0]\n",
            " [7.07 3.08 6.07 2.02 'Iris-virginica' 0]\n",
            " [7.07 2.06 6.09 2.03 'Iris-virginica' 0]\n",
            " [6.0 2.02 5.0 1.05 'Iris-virginica' 0]\n",
            " [6.09 3.02 5.07 2.03 'Iris-versicolor' 1]\n",
            " [5.05 2.08 4.09 2.0 'Iris-virginica' 0]\n",
            " [7.07 2.08 6.07 2.0 'Iris-virginica' 0]\n",
            " [6.03 2.07 4.09 1.08 'Iris-virginica' 0]\n",
            " [6.07 3.03 5.07 2.01 'Iris-versicolor' 1]\n",
            " [7.02 3.02 6.0 1.08 'Iris-virginica' 0]\n",
            " [6.12 2.08 4.08 1.08 'Iris-virginica' 0]\n",
            " [6.01 3.0 4.09 1.01 'Iris-virginica' 0]\n",
            " [6.04 2.08 5.06 2.01 'Iris-virginica' 0]\n",
            " [7.02 3.0 5.08 1.06 'Iris-virginica' 0]\n",
            " [7.04 2.08 6.01 1.09 'Iris-virginica' 0]\n",
            " [7.09 3.12 6.03 2.0 'Iris-virginica' 0]\n",
            " [6.04 2.08 5.06 2.02 'Iris-virginica' 0]\n",
            " [6.03 2.08 5.01 1.05 'Iris-virginica' 0]\n",
            " [6.01 2.06 5.06 1.04 'Iris-versicolor' 1]\n",
            " [7.07 3.0 6.01 2.03 'Iris-virginica' 0]\n",
            " [6.03 3.04 5.06 2.04 'Iris-virginica' 0]\n",
            " [6.04 3.02 5.05 1.08 'Iris-versicolor' 1]\n",
            " [6.0 3.0 4.08 1.08 'Iris-virginica' 0]\n",
            " [6.09 3.01 4.04 2.01 'Iris-virginica' 0]]\n"
          ],
          "name": "stdout"
        },
        {
          "output_type": "execute_result",
          "data": {
            "text/plain": [
              "80"
            ]
          },
          "metadata": {
            "tags": []
          },
          "execution_count": 14
        }
      ]
    },
    {
      "cell_type": "code",
      "metadata": {
        "colab": {
          "base_uri": "https://localhost:8080/"
        },
        "id": "TtZ5gC0G7Rb2",
        "outputId": "09f55e34-8304-4a29-a77b-70b1f59bef3b"
      },
      "source": [
        "print(dataTesting)\n",
        "len(dataTesting)"
      ],
      "execution_count": 15,
      "outputs": [
        {
          "output_type": "stream",
          "text": [
            "[[5.05 2.06 4.04 1.02 'Iris-versicolor' 1]\n",
            " [6.01 3.0 4.06 1.04 'Iris-versicolor' 1]\n",
            " [5.08 2.06 4.0 1.02 'Iris-versicolor' 1]\n",
            " [5.0 2.03 3.03 1.0 'Iris-versicolor' 1]\n",
            " [5.06 2.07 4.02 1.03 'Iris-versicolor' 1]\n",
            " [5.07 3.0 4.02 1.02 'Iris-versicolor' 1]\n",
            " [5.07 2.09 4.02 1.03 'Iris-versicolor' 1]\n",
            " [6.02 2.09 4.03 1.03 'Iris-versicolor' 1]\n",
            " [5.01 2.05 3.0 1.01 'Iris-versicolor' 1]\n",
            " [5.07 2.08 4.01 1.03 'Iris-versicolor' 1]\n",
            " [6.07 3.01 5.06 2.04 'Iris-virginica' 0]\n",
            " [0.0 3.04 5.01 2.02 'Iris-virginica' 0]\n",
            " [5.08 2.07 5.01 1.09 'Iris-virginica' 0]\n",
            " [6.08 3.02 5.09 2.03 'Iris-virginica' 0]\n",
            " [6.07 3.03 5.07 2.05 'Iris-versicolor' 1]\n",
            " [6.07 3.0 5.02 2.03 'Iris-virginica' 0]\n",
            " [6.03 2.05 5.0 1.09 'Iris-virginica' 0]\n",
            " [6.05 3.0 5.02 2.0 'Iris-versicolor' 1]\n",
            " [6.02 3.04 5.04 2.03 'Iris-versicolor' 1]\n",
            " [5.09 3.0 5.01 1.08 'Iris-versicolor' 1]]\n"
          ],
          "name": "stdout"
        },
        {
          "output_type": "execute_result",
          "data": {
            "text/plain": [
              "20"
            ]
          },
          "metadata": {
            "tags": []
          },
          "execution_count": 15
        }
      ]
    },
    {
      "cell_type": "code",
      "metadata": {
        "id": "KIKqmZsS7wwE"
      },
      "source": [
        "inputTraining = dataTraining[:, 0:4]\n",
        "inputTesting = dataTesting[:, 0:4]\n",
        "labelTraining = dataTraining[:, 4]\n",
        "labelTesting = dataTesting[:, 4]"
      ],
      "execution_count": 21,
      "outputs": []
    },
    {
      "cell_type": "code",
      "metadata": {
        "colab": {
          "base_uri": "https://localhost:8080/"
        },
        "id": "HjrnjpMR8Cas",
        "outputId": "210db678-0946-4f49-b4c0-33164839ad11"
      },
      "source": [
        "print(labelTraining)\n",
        "len(labelTraining)"
      ],
      "execution_count": 19,
      "outputs": [
        {
          "output_type": "stream",
          "text": [
            "['Iris-virginica' 'Iris-versicolor' 'Iris-virginica' 'Iris-versicolor'\n",
            " 'Iris-versicolor' 'Iris-versicolor' 'Iris-virginica' 'Iris-versicolor'\n",
            " 'Iris-versicolor' 'Iris-versicolor' 'Iris-virginica' 'Iris-versicolor'\n",
            " 'Iris-versicolor' 'Iris-virginica' 'Iris-virginica' 'Iris-virginica'\n",
            " 'Iris-versicolor' 'Iris-virginica' 'Iris-versicolor' 'Iris-versicolor'\n",
            " 'Iris-versicolor' 'Iris-versicolor' 'Iris-versicolor' 'Iris-versicolor'\n",
            " 'Iris-versicolor' 'Iris-versicolor' 'Iris-versicolor' 'Iris-versicolor'\n",
            " 'Iris-versicolor' 'Iris-versicolor' 'Iris-versicolor' 'Iris-versicolor'\n",
            " 'Iris-versicolor' 'Iris-versicolor' 'Iris-versicolor' 'Iris-versicolor'\n",
            " 'Iris-versicolor' 'Iris-versicolor' 'Iris-versicolor' 'Iris-versicolor'\n",
            " 'Iris-virginica' 'Iris-virginica' 'Iris-virginica' 'Iris-virginica'\n",
            " 'Iris-virginica' 'Iris-virginica' 'Iris-virginica' 'Iris-virginica'\n",
            " 'Iris-versicolor' 'Iris-virginica' 'Iris-virginica' 'Iris-virginica'\n",
            " 'Iris-virginica' 'Iris-virginica' 'Iris-versicolor' 'Iris-virginica'\n",
            " 'Iris-virginica' 'Iris-virginica' 'Iris-virginica' 'Iris-virginica'\n",
            " 'Iris-versicolor' 'Iris-virginica' 'Iris-virginica' 'Iris-virginica'\n",
            " 'Iris-versicolor' 'Iris-virginica' 'Iris-virginica' 'Iris-virginica'\n",
            " 'Iris-virginica' 'Iris-virginica' 'Iris-virginica' 'Iris-virginica'\n",
            " 'Iris-virginica' 'Iris-virginica' 'Iris-versicolor' 'Iris-virginica'\n",
            " 'Iris-virginica' 'Iris-versicolor' 'Iris-virginica' 'Iris-virginica']\n"
          ],
          "name": "stdout"
        },
        {
          "output_type": "execute_result",
          "data": {
            "text/plain": [
              "80"
            ]
          },
          "metadata": {
            "tags": []
          },
          "execution_count": 19
        }
      ]
    },
    {
      "cell_type": "code",
      "metadata": {
        "colab": {
          "base_uri": "https://localhost:8080/"
        },
        "id": "uwkaiB3O8HVP",
        "outputId": "5556bc30-8381-463b-e2c2-e510cde358a6"
      },
      "source": [
        "print(labelTesting)\n",
        "len(labelTesting)"
      ],
      "execution_count": 22,
      "outputs": [
        {
          "output_type": "stream",
          "text": [
            "['Iris-versicolor' 'Iris-versicolor' 'Iris-versicolor' 'Iris-versicolor'\n",
            " 'Iris-versicolor' 'Iris-versicolor' 'Iris-versicolor' 'Iris-versicolor'\n",
            " 'Iris-versicolor' 'Iris-versicolor' 'Iris-virginica' 'Iris-virginica'\n",
            " 'Iris-virginica' 'Iris-virginica' 'Iris-versicolor' 'Iris-virginica'\n",
            " 'Iris-virginica' 'Iris-versicolor' 'Iris-versicolor' 'Iris-versicolor']\n"
          ],
          "name": "stdout"
        },
        {
          "output_type": "execute_result",
          "data": {
            "text/plain": [
              "20"
            ]
          },
          "metadata": {
            "tags": []
          },
          "execution_count": 22
        }
      ]
    },
    {
      "cell_type": "code",
      "metadata": {
        "id": "8sz6YD1-7VuP"
      },
      "source": [
        "model = tree.DecisionTreeClassifier()"
      ],
      "execution_count": 24,
      "outputs": []
    },
    {
      "cell_type": "code",
      "metadata": {
        "id": "IrlhhB1N7iPB"
      },
      "source": [
        "model = model.fit(inputTraining, labelTraining)"
      ],
      "execution_count": 25,
      "outputs": []
    },
    {
      "cell_type": "code",
      "metadata": {
        "colab": {
          "base_uri": "https://localhost:8080/"
        },
        "id": "pru5idN98VMd",
        "outputId": "eee7892d-e876-417e-cf37-15dc96d80c44"
      },
      "source": [
        "hasilPrediksi = model.predict(inputTesting)\n",
        "print(\"Label Sebenarnya : \", labelTesting)\n",
        "print(\"Hasil Prediksi   : \", hasilPrediksi)"
      ],
      "execution_count": 26,
      "outputs": [
        {
          "output_type": "stream",
          "text": [
            "Label Sebenarnya :  ['Iris-versicolor' 'Iris-versicolor' 'Iris-versicolor' 'Iris-versicolor'\n",
            " 'Iris-versicolor' 'Iris-versicolor' 'Iris-versicolor' 'Iris-versicolor'\n",
            " 'Iris-versicolor' 'Iris-versicolor' 'Iris-virginica' 'Iris-virginica'\n",
            " 'Iris-virginica' 'Iris-virginica' 'Iris-versicolor' 'Iris-virginica'\n",
            " 'Iris-virginica' 'Iris-versicolor' 'Iris-versicolor' 'Iris-versicolor']\n",
            "Hasil Prediksi   :  ['Iris-versicolor' 'Iris-versicolor' 'Iris-versicolor' 'Iris-versicolor'\n",
            " 'Iris-versicolor' 'Iris-versicolor' 'Iris-versicolor' 'Iris-versicolor'\n",
            " 'Iris-versicolor' 'Iris-versicolor' 'Iris-versicolor' 'Iris-virginica'\n",
            " 'Iris-virginica' 'Iris-virginica' 'Iris-versicolor' 'Iris-virginica'\n",
            " 'Iris-virginica' 'Iris-virginica' 'Iris-virginica' 'Iris-virginica']\n"
          ],
          "name": "stdout"
        }
      ]
    },
    {
      "cell_type": "code",
      "metadata": {
        "colab": {
          "base_uri": "https://localhost:8080/"
        },
        "id": "j4bi3k6j8nFD",
        "outputId": "6ed98400-d86a-465e-af33-c06aa20c0d0e"
      },
      "source": [
        "prediksiBenar = (hasilPrediksi == labelTesting).sum()\n",
        "prediksiSalah = (hasilPrediksi != labelTesting).sum()\n",
        "print(\"Prediksi Benar : \", prediksiBenar, \"data\")\n",
        "print(\"Prediksi Salah : \", prediksiSalah, \"data\")\n",
        "print(\"Akurasu : \", prediksiBenar/(prediksiBenar+prediksiSalah)*100 , \"%\")"
      ],
      "execution_count": 27,
      "outputs": [
        {
          "output_type": "stream",
          "text": [
            "Prediksi Benar :  16 data\n",
            "Prediksi Salah :  4 data\n",
            "Akurasu :  80.0 %\n"
          ],
          "name": "stdout"
        }
      ]
    }
  ]
}