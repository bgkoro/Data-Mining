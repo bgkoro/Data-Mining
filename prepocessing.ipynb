{
  "nbformat": 4,
  "nbformat_minor": 0,
  "metadata": {
    "colab": {
      "name": "prepocessing.ipynb",
      "provenance": []
    },
    "kernelspec": {
      "name": "python3",
      "display_name": "Python 3"
    },
    "language_info": {
      "name": "python"
    }
  },
  "cells": [
    {
      "cell_type": "code",
      "metadata": {
        "id": "HWprDOROsBXe"
      },
      "source": [
        "import numpy as np\n",
        "import matplotlib.pyplot as plt\n",
        "import pandas as pd"
      ],
      "execution_count": 32,
      "outputs": []
    },
    {
      "cell_type": "markdown",
      "metadata": {
        "id": "6gbc7WRVuz4q"
      },
      "source": [
        "Import Data.csv"
      ]
    },
    {
      "cell_type": "code",
      "metadata": {
        "id": "kZ4bfHUNuji8"
      },
      "source": [
        "dataset = pd.read_csv('Data.csv')\n",
        "x = dataset.iloc[:, :-1].values\n",
        "y = dataset.iloc[:, -1].values"
      ],
      "execution_count": 33,
      "outputs": []
    },
    {
      "cell_type": "markdown",
      "metadata": {
        "id": "iDK-ougSu8am"
      },
      "source": [
        "Hasil dari Data.csv"
      ]
    },
    {
      "cell_type": "code",
      "metadata": {
        "colab": {
          "base_uri": "https://localhost:8080/"
        },
        "id": "mAzKdFVGvCJY",
        "outputId": "5baa7cbb-1980-4797-ba87-9ec01bcc0d9a"
      },
      "source": [
        "print(x)"
      ],
      "execution_count": 34,
      "outputs": [
        {
          "output_type": "stream",
          "text": [
            "[['Andi' 13.0 65000.0]\n",
            " ['Lucy' 20.0 100000.0]\n",
            " ['Bon' 5.0 17500.0]\n",
            " ['Bon' 10.0 35000.0]\n",
            " ['Andi' 10.0 nan]\n",
            " ['Lucy' nan 200000.0]\n",
            " ['Andi' 14.0 70000.0]\n",
            " ['Bon' 12.0 60000.0]\n",
            " ['Andi' 4.0 20000.0]\n",
            " ['Bon' 40.0 140000.0]]\n"
          ],
          "name": "stdout"
        }
      ]
    },
    {
      "cell_type": "code",
      "metadata": {
        "colab": {
          "base_uri": "https://localhost:8080/"
        },
        "id": "zsv-z31zvGEN",
        "outputId": "9ae7c4d8-8711-4d7e-8f4f-a4c780dc17aa"
      },
      "source": [
        "print(y)"
      ],
      "execution_count": 35,
      "outputs": [
        {
          "output_type": "stream",
          "text": [
            "['Yes' 'Yes' 'No' 'Yes' 'Yes' 'No' 'No' 'No' 'Yes' 'Yes']\n"
          ],
          "name": "stdout"
        }
      ]
    },
    {
      "cell_type": "markdown",
      "metadata": {
        "id": "61BKPntkvb49"
      },
      "source": [
        "Menghilangkan Missing Value ('nan')"
      ]
    },
    {
      "cell_type": "code",
      "metadata": {
        "id": "RNExtkeSviJJ"
      },
      "source": [
        "from sklearn.impute import SimpleImputer\n",
        "impute = SimpleImputer(missing_values=np.nan, strategy='mean')\n",
        "impute.fit(x[:, 1:3])\n",
        "x[:, 1:3] = impute.transform(x[:, 1:3])"
      ],
      "execution_count": 37,
      "outputs": []
    },
    {
      "cell_type": "code",
      "metadata": {
        "colab": {
          "base_uri": "https://localhost:8080/"
        },
        "id": "J-OyKl0gxolb",
        "outputId": "d1ecf461-74c5-4f64-f7f5-af5a7c971d4a"
      },
      "source": [
        "print(x)"
      ],
      "execution_count": 38,
      "outputs": [
        {
          "output_type": "stream",
          "text": [
            "[['Andi' 13.0 65000.0]\n",
            " ['Lucy' 20.0 100000.0]\n",
            " ['Bon' 5.0 17500.0]\n",
            " ['Bon' 10.0 35000.0]\n",
            " ['Andi' 10.0 78611.11111111111]\n",
            " ['Lucy' 14.222222222222221 200000.0]\n",
            " ['Andi' 14.0 70000.0]\n",
            " ['Bon' 12.0 60000.0]\n",
            " ['Andi' 4.0 20000.0]\n",
            " ['Bon' 40.0 140000.0]]\n"
          ],
          "name": "stdout"
        }
      ]
    },
    {
      "cell_type": "markdown",
      "metadata": {
        "id": "g0RddD8jyIhQ"
      },
      "source": [
        "Encoding Data Atribut"
      ]
    },
    {
      "cell_type": "code",
      "metadata": {
        "id": "CzEf2AZoyuSe"
      },
      "source": [
        "from sklearn.compose import ColumnTransformer\n",
        "from sklearn.preprocessing import OneHotEncoder\n",
        "ct = ColumnTransformer(transformers=[('encoder', OneHotEncoder(), [0])], remainder='passthrough')\n",
        "x = np.array(ct.fit_transform(x))"
      ],
      "execution_count": 39,
      "outputs": []
    },
    {
      "cell_type": "code",
      "metadata": {
        "colab": {
          "base_uri": "https://localhost:8080/"
        },
        "id": "8D6a1hJN2wpl",
        "outputId": "a7f3b846-7ae8-4d07-ec62-abbb130bb896"
      },
      "source": [
        "print(x)"
      ],
      "execution_count": 40,
      "outputs": [
        {
          "output_type": "stream",
          "text": [
            "[[1.0 0.0 0.0 13.0 65000.0]\n",
            " [0.0 0.0 1.0 20.0 100000.0]\n",
            " [0.0 1.0 0.0 5.0 17500.0]\n",
            " [0.0 1.0 0.0 10.0 35000.0]\n",
            " [1.0 0.0 0.0 10.0 78611.11111111111]\n",
            " [0.0 0.0 1.0 14.222222222222221 200000.0]\n",
            " [1.0 0.0 0.0 14.0 70000.0]\n",
            " [0.0 1.0 0.0 12.0 60000.0]\n",
            " [1.0 0.0 0.0 4.0 20000.0]\n",
            " [0.0 1.0 0.0 40.0 140000.0]]\n"
          ],
          "name": "stdout"
        }
      ]
    },
    {
      "cell_type": "markdown",
      "metadata": {
        "id": "dV6Kl0Aw3HZE"
      },
      "source": [
        "Encoding Data Label"
      ]
    },
    {
      "cell_type": "code",
      "metadata": {
        "id": "f4d7b5qD3aPV"
      },
      "source": [
        "from sklearn.preprocessing import LabelEncoder\n",
        "le = LabelEncoder()\n",
        "y = le.fit_transform(y)"
      ],
      "execution_count": 41,
      "outputs": []
    },
    {
      "cell_type": "code",
      "metadata": {
        "colab": {
          "base_uri": "https://localhost:8080/"
        },
        "id": "r5gTVziQ3tIJ",
        "outputId": "be1144da-1210-4897-ea70-d372581a96ed"
      },
      "source": [
        "print(y)"
      ],
      "execution_count": 42,
      "outputs": [
        {
          "output_type": "stream",
          "text": [
            "[1 1 0 1 1 0 0 0 1 1]\n"
          ],
          "name": "stdout"
        }
      ]
    },
    {
      "cell_type": "markdown",
      "metadata": {
        "id": "uQcrlDKC3sYO"
      },
      "source": [
        "Membagi Data ke Training set dan Test set\n",
        "\n",
        "\n",
        "\n"
      ]
    },
    {
      "cell_type": "code",
      "metadata": {
        "id": "9UxBGg3_4q8y"
      },
      "source": [
        "from sklearn.model_selection import train_test_split\n",
        "x_train, x_test, y_train, y_test = train_test_split(x, y, test_size=0.2, random_state=1)"
      ],
      "execution_count": 43,
      "outputs": []
    },
    {
      "cell_type": "code",
      "metadata": {
        "colab": {
          "base_uri": "https://localhost:8080/"
        },
        "id": "tg9kz5LC40Op",
        "outputId": "c55416fe-753c-4b81-96bf-c8d6eaa18635"
      },
      "source": [
        "print(x_train)"
      ],
      "execution_count": 44,
      "outputs": [
        {
          "output_type": "stream",
          "text": [
            "[[1.0 0.0 0.0 14.0 70000.0]\n",
            " [1.0 0.0 0.0 10.0 78611.11111111111]\n",
            " [1.0 0.0 0.0 13.0 65000.0]\n",
            " [0.0 1.0 0.0 10.0 35000.0]\n",
            " [0.0 0.0 1.0 20.0 100000.0]\n",
            " [0.0 1.0 0.0 12.0 60000.0]\n",
            " [1.0 0.0 0.0 4.0 20000.0]\n",
            " [0.0 0.0 1.0 14.222222222222221 200000.0]]\n"
          ],
          "name": "stdout"
        }
      ]
    },
    {
      "cell_type": "code",
      "metadata": {
        "colab": {
          "base_uri": "https://localhost:8080/"
        },
        "id": "wpdDy_HU5MFj",
        "outputId": "40fe0109-e32d-4b52-f58b-bba59a2115f4"
      },
      "source": [
        "print(x_test)"
      ],
      "execution_count": 45,
      "outputs": [
        {
          "output_type": "stream",
          "text": [
            "[[0.0 1.0 0.0 5.0 17500.0]\n",
            " [0.0 1.0 0.0 40.0 140000.0]]\n"
          ],
          "name": "stdout"
        }
      ]
    },
    {
      "cell_type": "code",
      "metadata": {
        "colab": {
          "base_uri": "https://localhost:8080/"
        },
        "id": "THmEBjAh5Sbx",
        "outputId": "f096ee1a-485f-4753-83de-68071a1b1ad1"
      },
      "source": [
        "print(y_train)"
      ],
      "execution_count": 46,
      "outputs": [
        {
          "output_type": "stream",
          "text": [
            "[0 1 1 1 1 0 1 0]\n"
          ],
          "name": "stdout"
        }
      ]
    },
    {
      "cell_type": "code",
      "metadata": {
        "colab": {
          "base_uri": "https://localhost:8080/"
        },
        "id": "xl8wD8SV5mS_",
        "outputId": "acbd5048-03aa-4e45-a027-9b1a7640ec10"
      },
      "source": [
        "print(y_test)"
      ],
      "execution_count": 47,
      "outputs": [
        {
          "output_type": "stream",
          "text": [
            "[0 1]\n"
          ],
          "name": "stdout"
        }
      ]
    },
    {
      "cell_type": "markdown",
      "metadata": {
        "id": "hLZy70om5-rp"
      },
      "source": [
        "Scaling Data yang Besar"
      ]
    },
    {
      "cell_type": "code",
      "metadata": {
        "id": "6u8ANLuK6CVv"
      },
      "source": [
        "from sklearn.preprocessing import StandardScaler\n",
        "sc = StandardScaler()\n",
        "x_train[:, 3:] = sc.fit_transform(x_train[:, 3:])\n",
        "x_test[:, 3:] = sc.transform(x_test[:, 3:])"
      ],
      "execution_count": 48,
      "outputs": []
    },
    {
      "cell_type": "code",
      "metadata": {
        "colab": {
          "base_uri": "https://localhost:8080/"
        },
        "id": "joJS7l4O6F2C",
        "outputId": "81f0a392-cecd-46cf-bd6b-48925fa11262"
      },
      "source": [
        "print(x_train)"
      ],
      "execution_count": 49,
      "outputs": [
        {
          "output_type": "stream",
          "text": [
            "[[1.0 0.0 0.0 0.43277040825877366 -0.1668556741858792]\n",
            " [1.0 0.0 0.0 -0.5043564908278945 0.0006755290452868974]\n",
            " [1.0 0.0 0.0 0.1984886834871066 -0.2641318567072015]\n",
            " [0.0 1.0 0.0 -0.5043564908278945 -0.8477889518351351]\n",
            " [0.0 0.0 1.0 1.8384607568887759 0.41680142094205447]\n",
            " [0.0 1.0 0.0 -0.03579304128456043 -0.36140803922852377]\n",
            " [1.0 0.0 0.0 -1.9100468394578967 -1.139617499399102]\n",
            " [0.0 0.0 1.0 0.48483301376358834 2.3623250713685002]]\n"
          ],
          "name": "stdout"
        }
      ]
    },
    {
      "cell_type": "code",
      "metadata": {
        "colab": {
          "base_uri": "https://localhost:8080/"
        },
        "id": "1AfVcLFP6KPg",
        "outputId": "a0a6a5ac-fb31-4c40-ce25-4aec39d18e7f"
      },
      "source": [
        "print(x_test)"
      ],
      "execution_count": 50,
      "outputs": [
        {
          "output_type": "stream",
          "text": [
            "[[0.0 1.0 0.0 -1.6757651146862298 -1.1882555906597632]\n",
            " [0.0 1.0 0.0 6.524095252322117 1.1950108811126328]]\n"
          ],
          "name": "stdout"
        }
      ]
    }
  ]
}