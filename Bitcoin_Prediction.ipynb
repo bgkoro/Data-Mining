{
  "nbformat": 4,
  "nbformat_minor": 0,
  "metadata": {
    "colab": {
      "name": "Bitcoin Prediction.ipynb",
      "provenance": [],
      "collapsed_sections": []
    },
    "kernelspec": {
      "name": "python3",
      "display_name": "Python 3"
    },
    "language_info": {
      "name": "python"
    }
  },
  "cells": [
    {
      "cell_type": "code",
      "metadata": {
        "id": "GQE_DABsKJKF"
      },
      "source": [
        "# Import Library\n",
        "import pandas as pd\n",
        "import numpy as np\n",
        "import seaborn as sns\n",
        "import matplotlib.pyplot as plt\n",
        "%matplotlib inline"
      ],
      "execution_count": 2,
      "outputs": []
    },
    {
      "cell_type": "code",
      "metadata": {
        "id": "TQC51fNmQrxd"
      },
      "source": [
        "# Baca Dataset\n",
        "data = pd.read_csv('BTCdataset.csv', parse_dates=['Date'], index_col='Date')"
      ],
      "execution_count": 41,
      "outputs": []
    },
    {
      "cell_type": "code",
      "metadata": {
        "colab": {
          "base_uri": "https://localhost:8080/",
          "height": 235
        },
        "id": "UnqnroXUVbO2",
        "outputId": "1206684d-9287-47f2-e0ec-63a0196b86d5"
      },
      "source": [
        "# Menampilkan 5 data teratas\n",
        "data.head()"
      ],
      "execution_count": 4,
      "outputs": [
        {
          "output_type": "execute_result",
          "data": {
            "text/html": [
              "<div>\n",
              "<style scoped>\n",
              "    .dataframe tbody tr th:only-of-type {\n",
              "        vertical-align: middle;\n",
              "    }\n",
              "\n",
              "    .dataframe tbody tr th {\n",
              "        vertical-align: top;\n",
              "    }\n",
              "\n",
              "    .dataframe thead th {\n",
              "        text-align: right;\n",
              "    }\n",
              "</style>\n",
              "<table border=\"1\" class=\"dataframe\">\n",
              "  <thead>\n",
              "    <tr style=\"text-align: right;\">\n",
              "      <th></th>\n",
              "      <th>Symbol</th>\n",
              "      <th>Open</th>\n",
              "      <th>High</th>\n",
              "      <th>Low</th>\n",
              "      <th>Close</th>\n",
              "      <th>Volume</th>\n",
              "    </tr>\n",
              "    <tr>\n",
              "      <th>Date</th>\n",
              "      <th></th>\n",
              "      <th></th>\n",
              "      <th></th>\n",
              "      <th></th>\n",
              "      <th></th>\n",
              "      <th></th>\n",
              "    </tr>\n",
              "  </thead>\n",
              "  <tbody>\n",
              "    <tr>\n",
              "      <th>2021-01-01 00:00:00</th>\n",
              "      <td>BTC</td>\n",
              "      <td>28979.74</td>\n",
              "      <td>29108.58</td>\n",
              "      <td>28765.00</td>\n",
              "      <td>29078.48</td>\n",
              "      <td>46.995661</td>\n",
              "    </tr>\n",
              "    <tr>\n",
              "      <th>2021-01-01 01:00:00</th>\n",
              "      <td>BTC</td>\n",
              "      <td>29078.48</td>\n",
              "      <td>29524.00</td>\n",
              "      <td>29028.91</td>\n",
              "      <td>29468.55</td>\n",
              "      <td>181.101579</td>\n",
              "    </tr>\n",
              "    <tr>\n",
              "      <th>2021-01-01 02:00:00</th>\n",
              "      <td>BTC</td>\n",
              "      <td>29468.55</td>\n",
              "      <td>29524.00</td>\n",
              "      <td>29161.83</td>\n",
              "      <td>29252.99</td>\n",
              "      <td>47.632786</td>\n",
              "    </tr>\n",
              "    <tr>\n",
              "      <th>2021-01-01 03:00:00</th>\n",
              "      <td>BTC</td>\n",
              "      <td>29252.99</td>\n",
              "      <td>29398.53</td>\n",
              "      <td>29237.94</td>\n",
              "      <td>29363.61</td>\n",
              "      <td>26.296977</td>\n",
              "    </tr>\n",
              "    <tr>\n",
              "      <th>2021-01-01 04:00:00</th>\n",
              "      <td>BTC</td>\n",
              "      <td>29363.61</td>\n",
              "      <td>29449.31</td>\n",
              "      <td>29138.55</td>\n",
              "      <td>29280.00</td>\n",
              "      <td>26.937673</td>\n",
              "    </tr>\n",
              "  </tbody>\n",
              "</table>\n",
              "</div>"
            ],
            "text/plain": [
              "                    Symbol      Open      High       Low     Close      Volume\n",
              "Date                                                                          \n",
              "2021-01-01 00:00:00    BTC  28979.74  29108.58  28765.00  29078.48   46.995661\n",
              "2021-01-01 01:00:00    BTC  29078.48  29524.00  29028.91  29468.55  181.101579\n",
              "2021-01-01 02:00:00    BTC  29468.55  29524.00  29161.83  29252.99   47.632786\n",
              "2021-01-01 03:00:00    BTC  29252.99  29398.53  29237.94  29363.61   26.296977\n",
              "2021-01-01 04:00:00    BTC  29363.61  29449.31  29138.55  29280.00   26.937673"
            ]
          },
          "metadata": {
            "tags": []
          },
          "execution_count": 4
        }
      ]
    },
    {
      "cell_type": "code",
      "metadata": {
        "colab": {
          "base_uri": "https://localhost:8080/",
          "height": 235
        },
        "id": "qwyFNRQ0VfGt",
        "outputId": "4e2a5434-48d5-41be-d5ee-2350b6f12415"
      },
      "source": [
        "# Menampilkan 5 data terbawah\n",
        "data.tail()"
      ],
      "execution_count": 5,
      "outputs": [
        {
          "output_type": "execute_result",
          "data": {
            "text/html": [
              "<div>\n",
              "<style scoped>\n",
              "    .dataframe tbody tr th:only-of-type {\n",
              "        vertical-align: middle;\n",
              "    }\n",
              "\n",
              "    .dataframe tbody tr th {\n",
              "        vertical-align: top;\n",
              "    }\n",
              "\n",
              "    .dataframe thead th {\n",
              "        text-align: right;\n",
              "    }\n",
              "</style>\n",
              "<table border=\"1\" class=\"dataframe\">\n",
              "  <thead>\n",
              "    <tr style=\"text-align: right;\">\n",
              "      <th></th>\n",
              "      <th>Symbol</th>\n",
              "      <th>Open</th>\n",
              "      <th>High</th>\n",
              "      <th>Low</th>\n",
              "      <th>Close</th>\n",
              "      <th>Volume</th>\n",
              "    </tr>\n",
              "    <tr>\n",
              "      <th>Date</th>\n",
              "      <th></th>\n",
              "      <th></th>\n",
              "      <th></th>\n",
              "      <th></th>\n",
              "      <th></th>\n",
              "      <th></th>\n",
              "    </tr>\n",
              "  </thead>\n",
              "  <tbody>\n",
              "    <tr>\n",
              "      <th>2021-10-05 20:00:00</th>\n",
              "      <td>BTC</td>\n",
              "      <td>55715.91</td>\n",
              "      <td>55715.91</td>\n",
              "      <td>53434.31</td>\n",
              "      <td>55321.30</td>\n",
              "      <td>570.426895</td>\n",
              "    </tr>\n",
              "    <tr>\n",
              "      <th>2021-10-05 21:00:00</th>\n",
              "      <td>BTC</td>\n",
              "      <td>55321.30</td>\n",
              "      <td>55888.70</td>\n",
              "      <td>55126.58</td>\n",
              "      <td>55800.04</td>\n",
              "      <td>62.493009</td>\n",
              "    </tr>\n",
              "    <tr>\n",
              "      <th>2021-10-05 22:00:00</th>\n",
              "      <td>BTC</td>\n",
              "      <td>55800.04</td>\n",
              "      <td>56318.04</td>\n",
              "      <td>55500.00</td>\n",
              "      <td>56290.72</td>\n",
              "      <td>60.883336</td>\n",
              "    </tr>\n",
              "    <tr>\n",
              "      <th>2021-10-05 23:00:00</th>\n",
              "      <td>BTC</td>\n",
              "      <td>56290.72</td>\n",
              "      <td>56318.96</td>\n",
              "      <td>55560.00</td>\n",
              "      <td>55882.44</td>\n",
              "      <td>61.036156</td>\n",
              "    </tr>\n",
              "    <tr>\n",
              "      <th>2021-11-05 00:00:00</th>\n",
              "      <td>BTC</td>\n",
              "      <td>55882.44</td>\n",
              "      <td>56020.64</td>\n",
              "      <td>55820.13</td>\n",
              "      <td>55861.40</td>\n",
              "      <td>7.048941</td>\n",
              "    </tr>\n",
              "  </tbody>\n",
              "</table>\n",
              "</div>"
            ],
            "text/plain": [
              "                    Symbol      Open      High       Low     Close      Volume\n",
              "Date                                                                          \n",
              "2021-10-05 20:00:00    BTC  55715.91  55715.91  53434.31  55321.30  570.426895\n",
              "2021-10-05 21:00:00    BTC  55321.30  55888.70  55126.58  55800.04   62.493009\n",
              "2021-10-05 22:00:00    BTC  55800.04  56318.04  55500.00  56290.72   60.883336\n",
              "2021-10-05 23:00:00    BTC  56290.72  56318.96  55560.00  55882.44   61.036156\n",
              "2021-11-05 00:00:00    BTC  55882.44  56020.64  55820.13  55861.40    7.048941"
            ]
          },
          "metadata": {
            "tags": []
          },
          "execution_count": 5
        }
      ]
    },
    {
      "cell_type": "code",
      "metadata": {
        "id": "CcnOoo5qdesA"
      },
      "source": [
        "data.drop(['Symbol', 'Volume'], axis=1, inplace=True)"
      ],
      "execution_count": 42,
      "outputs": []
    },
    {
      "cell_type": "code",
      "metadata": {
        "colab": {
          "base_uri": "https://localhost:8080/",
          "height": 450
        },
        "id": "lcNL0cfObY2D",
        "outputId": "317082a2-dba2-4af5-8eb1-c02db6425e39"
      },
      "source": [
        "data.isnull()"
      ],
      "execution_count": 43,
      "outputs": [
        {
          "output_type": "execute_result",
          "data": {
            "text/html": [
              "<div>\n",
              "<style scoped>\n",
              "    .dataframe tbody tr th:only-of-type {\n",
              "        vertical-align: middle;\n",
              "    }\n",
              "\n",
              "    .dataframe tbody tr th {\n",
              "        vertical-align: top;\n",
              "    }\n",
              "\n",
              "    .dataframe thead th {\n",
              "        text-align: right;\n",
              "    }\n",
              "</style>\n",
              "<table border=\"1\" class=\"dataframe\">\n",
              "  <thead>\n",
              "    <tr style=\"text-align: right;\">\n",
              "      <th></th>\n",
              "      <th>Open</th>\n",
              "      <th>High</th>\n",
              "      <th>Low</th>\n",
              "      <th>Close</th>\n",
              "    </tr>\n",
              "    <tr>\n",
              "      <th>Date</th>\n",
              "      <th></th>\n",
              "      <th></th>\n",
              "      <th></th>\n",
              "      <th></th>\n",
              "    </tr>\n",
              "  </thead>\n",
              "  <tbody>\n",
              "    <tr>\n",
              "      <th>2021-01-01 00:00:00</th>\n",
              "      <td>False</td>\n",
              "      <td>False</td>\n",
              "      <td>False</td>\n",
              "      <td>False</td>\n",
              "    </tr>\n",
              "    <tr>\n",
              "      <th>2021-01-01 01:00:00</th>\n",
              "      <td>False</td>\n",
              "      <td>False</td>\n",
              "      <td>False</td>\n",
              "      <td>False</td>\n",
              "    </tr>\n",
              "    <tr>\n",
              "      <th>2021-01-01 02:00:00</th>\n",
              "      <td>False</td>\n",
              "      <td>False</td>\n",
              "      <td>False</td>\n",
              "      <td>False</td>\n",
              "    </tr>\n",
              "    <tr>\n",
              "      <th>2021-01-01 03:00:00</th>\n",
              "      <td>False</td>\n",
              "      <td>False</td>\n",
              "      <td>False</td>\n",
              "      <td>False</td>\n",
              "    </tr>\n",
              "    <tr>\n",
              "      <th>2021-01-01 04:00:00</th>\n",
              "      <td>False</td>\n",
              "      <td>False</td>\n",
              "      <td>False</td>\n",
              "      <td>False</td>\n",
              "    </tr>\n",
              "    <tr>\n",
              "      <th>...</th>\n",
              "      <td>...</td>\n",
              "      <td>...</td>\n",
              "      <td>...</td>\n",
              "      <td>...</td>\n",
              "    </tr>\n",
              "    <tr>\n",
              "      <th>2021-10-05 20:00:00</th>\n",
              "      <td>False</td>\n",
              "      <td>False</td>\n",
              "      <td>False</td>\n",
              "      <td>False</td>\n",
              "    </tr>\n",
              "    <tr>\n",
              "      <th>2021-10-05 21:00:00</th>\n",
              "      <td>False</td>\n",
              "      <td>False</td>\n",
              "      <td>False</td>\n",
              "      <td>False</td>\n",
              "    </tr>\n",
              "    <tr>\n",
              "      <th>2021-10-05 22:00:00</th>\n",
              "      <td>False</td>\n",
              "      <td>False</td>\n",
              "      <td>False</td>\n",
              "      <td>False</td>\n",
              "    </tr>\n",
              "    <tr>\n",
              "      <th>2021-10-05 23:00:00</th>\n",
              "      <td>False</td>\n",
              "      <td>False</td>\n",
              "      <td>False</td>\n",
              "      <td>False</td>\n",
              "    </tr>\n",
              "    <tr>\n",
              "      <th>2021-11-05 00:00:00</th>\n",
              "      <td>False</td>\n",
              "      <td>False</td>\n",
              "      <td>False</td>\n",
              "      <td>False</td>\n",
              "    </tr>\n",
              "  </tbody>\n",
              "</table>\n",
              "<p>3121 rows × 4 columns</p>\n",
              "</div>"
            ],
            "text/plain": [
              "                      Open   High    Low  Close\n",
              "Date                                           \n",
              "2021-01-01 00:00:00  False  False  False  False\n",
              "2021-01-01 01:00:00  False  False  False  False\n",
              "2021-01-01 02:00:00  False  False  False  False\n",
              "2021-01-01 03:00:00  False  False  False  False\n",
              "2021-01-01 04:00:00  False  False  False  False\n",
              "...                    ...    ...    ...    ...\n",
              "2021-10-05 20:00:00  False  False  False  False\n",
              "2021-10-05 21:00:00  False  False  False  False\n",
              "2021-10-05 22:00:00  False  False  False  False\n",
              "2021-10-05 23:00:00  False  False  False  False\n",
              "2021-11-05 00:00:00  False  False  False  False\n",
              "\n",
              "[3121 rows x 4 columns]"
            ]
          },
          "metadata": {
            "tags": []
          },
          "execution_count": 43
        }
      ]
    },
    {
      "cell_type": "code",
      "metadata": {
        "colab": {
          "base_uri": "https://localhost:8080/"
        },
        "id": "4eZOofSubhvr",
        "outputId": "3f8dcf50-a9a4-49b3-acde-56bfbfb7dbbf"
      },
      "source": [
        "# Melihat jumlah data dan kolom\n",
        "data.shape"
      ],
      "execution_count": 44,
      "outputs": [
        {
          "output_type": "execute_result",
          "data": {
            "text/plain": [
              "(3121, 4)"
            ]
          },
          "metadata": {
            "tags": []
          },
          "execution_count": 44
        }
      ]
    },
    {
      "cell_type": "code",
      "metadata": {
        "colab": {
          "base_uri": "https://localhost:8080/",
          "height": 235
        },
        "id": "VItC7KOAbpGx",
        "outputId": "ff920a07-8bbc-493f-d070-86d1e4c2ad3f"
      },
      "source": [
        "data.tail()"
      ],
      "execution_count": 47,
      "outputs": [
        {
          "output_type": "execute_result",
          "data": {
            "text/html": [
              "<div>\n",
              "<style scoped>\n",
              "    .dataframe tbody tr th:only-of-type {\n",
              "        vertical-align: middle;\n",
              "    }\n",
              "\n",
              "    .dataframe tbody tr th {\n",
              "        vertical-align: top;\n",
              "    }\n",
              "\n",
              "    .dataframe thead th {\n",
              "        text-align: right;\n",
              "    }\n",
              "</style>\n",
              "<table border=\"1\" class=\"dataframe\">\n",
              "  <thead>\n",
              "    <tr style=\"text-align: right;\">\n",
              "      <th></th>\n",
              "      <th>Open</th>\n",
              "      <th>High</th>\n",
              "      <th>Low</th>\n",
              "      <th>Close</th>\n",
              "    </tr>\n",
              "    <tr>\n",
              "      <th>Date</th>\n",
              "      <th></th>\n",
              "      <th></th>\n",
              "      <th></th>\n",
              "      <th></th>\n",
              "    </tr>\n",
              "  </thead>\n",
              "  <tbody>\n",
              "    <tr>\n",
              "      <th>2021-10-05 20:00:00</th>\n",
              "      <td>55715.91</td>\n",
              "      <td>55715.91</td>\n",
              "      <td>53434.31</td>\n",
              "      <td>55321.30</td>\n",
              "    </tr>\n",
              "    <tr>\n",
              "      <th>2021-10-05 21:00:00</th>\n",
              "      <td>55321.30</td>\n",
              "      <td>55888.70</td>\n",
              "      <td>55126.58</td>\n",
              "      <td>55800.04</td>\n",
              "    </tr>\n",
              "    <tr>\n",
              "      <th>2021-10-05 22:00:00</th>\n",
              "      <td>55800.04</td>\n",
              "      <td>56318.04</td>\n",
              "      <td>55500.00</td>\n",
              "      <td>56290.72</td>\n",
              "    </tr>\n",
              "    <tr>\n",
              "      <th>2021-10-05 23:00:00</th>\n",
              "      <td>56290.72</td>\n",
              "      <td>56318.96</td>\n",
              "      <td>55560.00</td>\n",
              "      <td>55882.44</td>\n",
              "    </tr>\n",
              "    <tr>\n",
              "      <th>2021-11-05 00:00:00</th>\n",
              "      <td>55882.44</td>\n",
              "      <td>56020.64</td>\n",
              "      <td>55820.13</td>\n",
              "      <td>55861.40</td>\n",
              "    </tr>\n",
              "  </tbody>\n",
              "</table>\n",
              "</div>"
            ],
            "text/plain": [
              "                         Open      High       Low     Close\n",
              "Date                                                       \n",
              "2021-10-05 20:00:00  55715.91  55715.91  53434.31  55321.30\n",
              "2021-10-05 21:00:00  55321.30  55888.70  55126.58  55800.04\n",
              "2021-10-05 22:00:00  55800.04  56318.04  55500.00  56290.72\n",
              "2021-10-05 23:00:00  56290.72  56318.96  55560.00  55882.44\n",
              "2021-11-05 00:00:00  55882.44  56020.64  55820.13  55861.40"
            ]
          },
          "metadata": {
            "tags": []
          },
          "execution_count": 47
        }
      ]
    },
    {
      "cell_type": "code",
      "metadata": {
        "colab": {
          "base_uri": "https://localhost:8080/",
          "height": 400
        },
        "id": "8plYkeV1Vl6d",
        "outputId": "547c0310-9bec-442c-81f0-0946eec656b6"
      },
      "source": [
        "sns.set()\n",
        "sns.set_style('whitegrid')\n",
        "data['Close'].plot(figsize=(20,6),label='Close')\n",
        "data['Close'].rolling(window=30).mean().plot(label='Per 30 Day')\n",
        "plt.legend()"
      ],
      "execution_count": 46,
      "outputs": [
        {
          "output_type": "execute_result",
          "data": {
            "text/plain": [
              "<matplotlib.legend.Legend at 0x7f88d5be0e90>"
            ]
          },
          "metadata": {
            "tags": []
          },
          "execution_count": 46
        },
        {
          "output_type": "display_data",
          "data": {
            "image/png": "[encoded data removed]",
            "text/plain": [
              "<Figure size 1440x432 with 1 Axes>"
            ]
          },
          "metadata": {
            "tags": []
          }
        }
      ]
    },
    {
      "cell_type": "code",
      "metadata": {
        "id": "dujfDjBgYW9c"
      },
      "source": [
        "# Mencari rata-rata OHLC (Open, High, Low, Close)\n",
        "data['OHLCAverage'] = (data['Open']+data['High']+data['Low']+data['Close'])/4"
      ],
      "execution_count": 48,
      "outputs": []
    },
    {
      "cell_type": "code",
      "metadata": {
        "colab": {
          "base_uri": "https://localhost:8080/",
          "height": 235
        },
        "id": "R7-3nz-zZfkH",
        "outputId": "083a2db8-424c-42fa-9e14-2aca879275a5"
      },
      "source": [
        "data.head()"
      ],
      "execution_count": 49,
      "outputs": [
        {
          "output_type": "execute_result",
          "data": {
            "text/html": [
              "<div>\n",
              "<style scoped>\n",
              "    .dataframe tbody tr th:only-of-type {\n",
              "        vertical-align: middle;\n",
              "    }\n",
              "\n",
              "    .dataframe tbody tr th {\n",
              "        vertical-align: top;\n",
              "    }\n",
              "\n",
              "    .dataframe thead th {\n",
              "        text-align: right;\n",
              "    }\n",
              "</style>\n",
              "<table border=\"1\" class=\"dataframe\">\n",
              "  <thead>\n",
              "    <tr style=\"text-align: right;\">\n",
              "      <th></th>\n",
              "      <th>Open</th>\n",
              "      <th>High</th>\n",
              "      <th>Low</th>\n",
              "      <th>Close</th>\n",
              "      <th>OHLCAverage</th>\n",
              "    </tr>\n",
              "    <tr>\n",
              "      <th>Date</th>\n",
              "      <th></th>\n",
              "      <th></th>\n",
              "      <th></th>\n",
              "      <th></th>\n",
              "      <th></th>\n",
              "    </tr>\n",
              "  </thead>\n",
              "  <tbody>\n",
              "    <tr>\n",
              "      <th>2021-01-01 00:00:00</th>\n",
              "      <td>28979.74</td>\n",
              "      <td>29108.58</td>\n",
              "      <td>28765.00</td>\n",
              "      <td>29078.48</td>\n",
              "      <td>28982.9500</td>\n",
              "    </tr>\n",
              "    <tr>\n",
              "      <th>2021-01-01 01:00:00</th>\n",
              "      <td>29078.48</td>\n",
              "      <td>29524.00</td>\n",
              "      <td>29028.91</td>\n",
              "      <td>29468.55</td>\n",
              "      <td>29274.9850</td>\n",
              "    </tr>\n",
              "    <tr>\n",
              "      <th>2021-01-01 02:00:00</th>\n",
              "      <td>29468.55</td>\n",
              "      <td>29524.00</td>\n",
              "      <td>29161.83</td>\n",
              "      <td>29252.99</td>\n",
              "      <td>29351.8425</td>\n",
              "    </tr>\n",
              "    <tr>\n",
              "      <th>2021-01-01 03:00:00</th>\n",
              "      <td>29252.99</td>\n",
              "      <td>29398.53</td>\n",
              "      <td>29237.94</td>\n",
              "      <td>29363.61</td>\n",
              "      <td>29313.2675</td>\n",
              "    </tr>\n",
              "    <tr>\n",
              "      <th>2021-01-01 04:00:00</th>\n",
              "      <td>29363.61</td>\n",
              "      <td>29449.31</td>\n",
              "      <td>29138.55</td>\n",
              "      <td>29280.00</td>\n",
              "      <td>29307.8675</td>\n",
              "    </tr>\n",
              "  </tbody>\n",
              "</table>\n",
              "</div>"
            ],
            "text/plain": [
              "                         Open      High       Low     Close  OHLCAverage\n",
              "Date                                                                    \n",
              "2021-01-01 00:00:00  28979.74  29108.58  28765.00  29078.48   28982.9500\n",
              "2021-01-01 01:00:00  29078.48  29524.00  29028.91  29468.55   29274.9850\n",
              "2021-01-01 02:00:00  29468.55  29524.00  29161.83  29252.99   29351.8425\n",
              "2021-01-01 03:00:00  29252.99  29398.53  29237.94  29363.61   29313.2675\n",
              "2021-01-01 04:00:00  29363.61  29449.31  29138.55  29280.00   29307.8675"
            ]
          },
          "metadata": {
            "tags": []
          },
          "execution_count": 49
        }
      ]
    },
    {
      "cell_type": "code",
      "metadata": {
        "id": "BYTL-CMrZu_B"
      },
      "source": [
        "# Buat label\n",
        "data['Prediction_Price'] = data['Close'].shift(-30)"
      ],
      "execution_count": 50,
      "outputs": []
    },
    {
      "cell_type": "code",
      "metadata": {
        "colab": {
          "base_uri": "https://localhost:8080/",
          "height": 235
        },
        "id": "ufo_Y261aKup",
        "outputId": "1c0c467e-caf1-4940-a5d9-0315b24069d0"
      },
      "source": [
        "data.tail()"
      ],
      "execution_count": 51,
      "outputs": [
        {
          "output_type": "execute_result",
          "data": {
            "text/html": [
              "<div>\n",
              "<style scoped>\n",
              "    .dataframe tbody tr th:only-of-type {\n",
              "        vertical-align: middle;\n",
              "    }\n",
              "\n",
              "    .dataframe tbody tr th {\n",
              "        vertical-align: top;\n",
              "    }\n",
              "\n",
              "    .dataframe thead th {\n",
              "        text-align: right;\n",
              "    }\n",
              "</style>\n",
              "<table border=\"1\" class=\"dataframe\">\n",
              "  <thead>\n",
              "    <tr style=\"text-align: right;\">\n",
              "      <th></th>\n",
              "      <th>Open</th>\n",
              "      <th>High</th>\n",
              "      <th>Low</th>\n",
              "      <th>Close</th>\n",
              "      <th>OHLCAverage</th>\n",
              "      <th>Prediction_Price</th>\n",
              "    </tr>\n",
              "    <tr>\n",
              "      <th>Date</th>\n",
              "      <th></th>\n",
              "      <th></th>\n",
              "      <th></th>\n",
              "      <th></th>\n",
              "      <th></th>\n",
              "      <th></th>\n",
              "    </tr>\n",
              "  </thead>\n",
              "  <tbody>\n",
              "    <tr>\n",
              "      <th>2021-10-05 20:00:00</th>\n",
              "      <td>55715.91</td>\n",
              "      <td>55715.91</td>\n",
              "      <td>53434.31</td>\n",
              "      <td>55321.30</td>\n",
              "      <td>55046.8575</td>\n",
              "      <td>NaN</td>\n",
              "    </tr>\n",
              "    <tr>\n",
              "      <th>2021-10-05 21:00:00</th>\n",
              "      <td>55321.30</td>\n",
              "      <td>55888.70</td>\n",
              "      <td>55126.58</td>\n",
              "      <td>55800.04</td>\n",
              "      <td>55534.1550</td>\n",
              "      <td>NaN</td>\n",
              "    </tr>\n",
              "    <tr>\n",
              "      <th>2021-10-05 22:00:00</th>\n",
              "      <td>55800.04</td>\n",
              "      <td>56318.04</td>\n",
              "      <td>55500.00</td>\n",
              "      <td>56290.72</td>\n",
              "      <td>55977.2000</td>\n",
              "      <td>NaN</td>\n",
              "    </tr>\n",
              "    <tr>\n",
              "      <th>2021-10-05 23:00:00</th>\n",
              "      <td>56290.72</td>\n",
              "      <td>56318.96</td>\n",
              "      <td>55560.00</td>\n",
              "      <td>55882.44</td>\n",
              "      <td>56013.0300</td>\n",
              "      <td>NaN</td>\n",
              "    </tr>\n",
              "    <tr>\n",
              "      <th>2021-11-05 00:00:00</th>\n",
              "      <td>55882.44</td>\n",
              "      <td>56020.64</td>\n",
              "      <td>55820.13</td>\n",
              "      <td>55861.40</td>\n",
              "      <td>55896.1525</td>\n",
              "      <td>NaN</td>\n",
              "    </tr>\n",
              "  </tbody>\n",
              "</table>\n",
              "</div>"
            ],
            "text/plain": [
              "                         Open      High  ...  OHLCAverage  Prediction_Price\n",
              "Date                                     ...                               \n",
              "2021-10-05 20:00:00  55715.91  55715.91  ...   55046.8575               NaN\n",
              "2021-10-05 21:00:00  55321.30  55888.70  ...   55534.1550               NaN\n",
              "2021-10-05 22:00:00  55800.04  56318.04  ...   55977.2000               NaN\n",
              "2021-10-05 23:00:00  56290.72  56318.96  ...   56013.0300               NaN\n",
              "2021-11-05 00:00:00  55882.44  56020.64  ...   55896.1525               NaN\n",
              "\n",
              "[5 rows x 6 columns]"
            ]
          },
          "metadata": {
            "tags": []
          },
          "execution_count": 51
        }
      ]
    },
    {
      "cell_type": "code",
      "metadata": {
        "id": "uoft9pcjaROl"
      },
      "source": [
        "# Prepocessing\n",
        "from sklearn import preprocessing\n",
        "data.dropna(inplace=True)\n",
        "x = data.drop('Prediction_Price', axis=1)\n",
        "# scaling model\n",
        "x = preprocessing.scale(x) \n",
        "y = data['Prediction_Price']"
      ],
      "execution_count": 53,
      "outputs": []
    },
    {
      "cell_type": "code",
      "metadata": {
        "id": "20jWhchVfg4N"
      },
      "source": [
        "from sklearn.model_selection import train_test_split\n",
        "x_train, x_test, y_train, y_test = train_test_split(x,y,test_size=0.3,random_state=101)"
      ],
      "execution_count": 57,
      "outputs": []
    },
    {
      "cell_type": "code",
      "metadata": {
        "colab": {
          "base_uri": "https://localhost:8080/"
        },
        "id": "RD61XUO7f7Ew",
        "outputId": "20bfa408-cca5-4d6e-ae57-38a097d7093f"
      },
      "source": [
        "from sklearn.ensemble import RandomForestRegressor\n",
        "reg = RandomForestRegressor(n_estimators=200, random_state=101)\n",
        "reg.fit(x_train, y_train)\n",
        "akurasi = reg.score(x_test, y_test)\n",
        "akurasi = akurasi*100\n",
        "akurasi = float(\"{0:.4f}\".format(akurasi))\n",
        "print('Akurasi =', akurasi,'%')"
      ],
      "execution_count": 61,
      "outputs": [
        {
          "output_type": "stream",
          "text": [
            "Akurasi = 94.0974 %\n"
          ],
          "name": "stdout"
        }
      ]
    },
    {
      "cell_type": "code",
      "metadata": {
        "colab": {
          "base_uri": "https://localhost:8080/"
        },
        "id": "BTukrY4Wf7eO",
        "outputId": "1218252b-3232-4726-c9d1-95ec145b0d8c"
      },
      "source": [
        "prediksi = reg.predict(x_test)\n",
        "print(\"Prediksi =\", prediksi[1], \"| Nilai asli =\", y_test[1])"
      ],
      "execution_count": 62,
      "outputs": [
        {
          "output_type": "stream",
          "text": [
            "Prediksi = 60995.7367 | Nilai asli = 60668.2\n"
          ],
          "name": "stdout"
        }
      ]
    },
    {
      "cell_type": "code",
      "metadata": {
        "id": "81ymXd7ji8bA"
      },
      "source": [
        "# Menerapkan model pada prediksi\n",
        "#ambil 30 elemen untuk membuat prediksi\n",
        "x_predict = x[-30:]\n",
        "forecast = reg.predict(x_predict)"
      ],
      "execution_count": 64,
      "outputs": []
    },
    {
      "cell_type": "code",
      "metadata": {
        "colab": {
          "base_uri": "https://localhost:8080/",
          "height": 204
        },
        "id": "MXrAf1JBj-tc",
        "outputId": "2228af61-5c2c-4e1f-a1f5-4d331c07f1c9"
      },
      "source": [
        "from datetime import datetime, timedelta\n",
        "last_date = data.iloc[-1].name\n",
        "updated = last_date + timedelta(days=1)\n",
        "date = pd.date_range(updated, periods=30, freq='D')\n",
        "date1 = pd.DataFrame(forecast, columns=['Forecast'], index=date)\n",
        "data = data.append(date1)\n",
        "data.tail()"
      ],
      "execution_count": 66,
      "outputs": [
        {
          "output_type": "execute_result",
          "data": {
            "text/html": [
              "<div>\n",
              "<style scoped>\n",
              "    .dataframe tbody tr th:only-of-type {\n",
              "        vertical-align: middle;\n",
              "    }\n",
              "\n",
              "    .dataframe tbody tr th {\n",
              "        vertical-align: top;\n",
              "    }\n",
              "\n",
              "    .dataframe thead th {\n",
              "        text-align: right;\n",
              "    }\n",
              "</style>\n",
              "<table border=\"1\" class=\"dataframe\">\n",
              "  <thead>\n",
              "    <tr style=\"text-align: right;\">\n",
              "      <th></th>\n",
              "      <th>Open</th>\n",
              "      <th>High</th>\n",
              "      <th>Low</th>\n",
              "      <th>Close</th>\n",
              "      <th>OHLCAverage</th>\n",
              "      <th>Prediction_Price</th>\n",
              "      <th>Forecast</th>\n",
              "    </tr>\n",
              "  </thead>\n",
              "  <tbody>\n",
              "    <tr>\n",
              "      <th>2021-10-01 18:00:00</th>\n",
              "      <td>NaN</td>\n",
              "      <td>NaN</td>\n",
              "      <td>NaN</td>\n",
              "      <td>NaN</td>\n",
              "      <td>NaN</td>\n",
              "      <td>NaN</td>\n",
              "      <td>55490.94870</td>\n",
              "    </tr>\n",
              "    <tr>\n",
              "      <th>2021-10-02 18:00:00</th>\n",
              "      <td>NaN</td>\n",
              "      <td>NaN</td>\n",
              "      <td>NaN</td>\n",
              "      <td>NaN</td>\n",
              "      <td>NaN</td>\n",
              "      <td>NaN</td>\n",
              "      <td>56204.17275</td>\n",
              "    </tr>\n",
              "    <tr>\n",
              "      <th>2021-10-03 18:00:00</th>\n",
              "      <td>NaN</td>\n",
              "      <td>NaN</td>\n",
              "      <td>NaN</td>\n",
              "      <td>NaN</td>\n",
              "      <td>NaN</td>\n",
              "      <td>NaN</td>\n",
              "      <td>56707.04865</td>\n",
              "    </tr>\n",
              "    <tr>\n",
              "      <th>2021-10-04 18:00:00</th>\n",
              "      <td>NaN</td>\n",
              "      <td>NaN</td>\n",
              "      <td>NaN</td>\n",
              "      <td>NaN</td>\n",
              "      <td>NaN</td>\n",
              "      <td>NaN</td>\n",
              "      <td>56666.80370</td>\n",
              "    </tr>\n",
              "    <tr>\n",
              "      <th>2021-10-05 18:00:00</th>\n",
              "      <td>NaN</td>\n",
              "      <td>NaN</td>\n",
              "      <td>NaN</td>\n",
              "      <td>NaN</td>\n",
              "      <td>NaN</td>\n",
              "      <td>NaN</td>\n",
              "      <td>56409.96500</td>\n",
              "    </tr>\n",
              "  </tbody>\n",
              "</table>\n",
              "</div>"
            ],
            "text/plain": [
              "                     Open  High  ...  Prediction_Price     Forecast\n",
              "2021-10-01 18:00:00   NaN   NaN  ...               NaN  55490.94870\n",
              "2021-10-02 18:00:00   NaN   NaN  ...               NaN  56204.17275\n",
              "2021-10-03 18:00:00   NaN   NaN  ...               NaN  56707.04865\n",
              "2021-10-04 18:00:00   NaN   NaN  ...               NaN  56666.80370\n",
              "2021-10-05 18:00:00   NaN   NaN  ...               NaN  56409.96500\n",
              "\n",
              "[5 rows x 7 columns]"
            ]
          },
          "metadata": {
            "tags": []
          },
          "execution_count": 66
        }
      ]
    },
    {
      "cell_type": "code",
      "metadata": {
        "colab": {
          "base_uri": "https://localhost:8080/",
          "height": 383
        },
        "id": "hKy8hXQujYUr",
        "outputId": "e90e8704-fcfc-46fb-c674-4bf211cd0fae"
      },
      "source": [
        "data['Close'].plot(figsize=(20,6), label='Close')\n",
        "data['Forecast'].plot(label='Forecast')\n",
        "plt.legend()"
      ],
      "execution_count": 67,
      "outputs": [
        {
          "output_type": "execute_result",
          "data": {
            "text/plain": [
              "<matplotlib.legend.Legend at 0x7f88d1dfcd10>"
            ]
          },
          "metadata": {
            "tags": []
          },
          "execution_count": 67
        },
        {
          "output_type": "display_data",
          "data": {
            "image/png": "[encoded data removed]",
            "text/plain": [
              "<Figure size 1440x432 with 1 Axes>"
            ]
          },
          "metadata": {
            "tags": []
          }
        }
      ]
    },
    {
      "cell_type": "markdown",
      "metadata": {
        "id": "TT9Wyj2PlGXk"
      },
      "source": [
        "Harga Bitcoin Diperkirakan turun pada tanggal 10 Oktober 2021"
      ]
    }
  ]
}