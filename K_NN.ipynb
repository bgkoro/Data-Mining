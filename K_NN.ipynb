{
  "nbformat": 4,
  "nbformat_minor": 0,
  "metadata": {
    "colab": {
      "name": "K-NN.ipynb",
      "provenance": [],
      "collapsed_sections": []
    },
    "kernelspec": {
      "name": "python3",
      "display_name": "Python 3"
    },
    "language_info": {
      "name": "python"
    }
  },
  "cells": [
    {
      "cell_type": "code",
      "metadata": {
        "id": "RWVe709_b3Yf"
      },
      "source": [
        "import numpy as np\n",
        "import matplotlib.pyplot as plt\n",
        "import pandas as pd"
      ],
      "execution_count": 1,
      "outputs": []
    },
    {
      "cell_type": "code",
      "metadata": {
        "id": "xznItUU3f9TC"
      },
      "source": [
        "dataset = pd.read_csv('Social_Network_Ads.csv')\n",
        "x = dataset.iloc[:, [2,3]].values\n",
        "y = dataset.iloc[:, -1].values"
      ],
      "execution_count": 2,
      "outputs": []
    },
    {
      "cell_type": "code",
      "metadata": {
        "colab": {
          "base_uri": "https://localhost:8080/"
        },
        "id": "AGhdzPC_gNUA",
        "outputId": "5a042b2c-d723-44e4-b301-1914d18a91f9"
      },
      "source": [
        "print(x)"
      ],
      "execution_count": 3,
      "outputs": [
        {
          "output_type": "stream",
          "text": [
            "[[    19  19000]\n",
            " [    35  20000]\n",
            " [    26  43000]\n",
            " [    27  57000]\n",
            " [    19  76000]\n",
            " [    27  58000]\n",
            " [    27  84000]\n",
            " [    32 150000]\n",
            " [    25  33000]\n",
            " [    35  65000]\n",
            " [    26  80000]\n",
            " [    26  52000]\n",
            " [    20  86000]\n",
            " [    32  18000]\n",
            " [    18  82000]\n",
            " [    29  80000]\n",
            " [    47  25000]\n",
            " [    45  26000]\n",
            " [    46  28000]\n",
            " [    48  29000]\n",
            " [    45  22000]\n",
            " [    47  49000]\n",
            " [    48  41000]\n",
            " [    45  22000]\n",
            " [    46  23000]\n",
            " [    47  20000]\n",
            " [    49  28000]\n",
            " [    47  30000]\n",
            " [    29  43000]\n",
            " [    31  18000]\n",
            " [    31  74000]\n",
            " [    27 137000]\n",
            " [    21  16000]\n",
            " [    28  44000]\n",
            " [    27  90000]\n",
            " [    35  27000]\n",
            " [    33  28000]\n",
            " [    30  49000]\n",
            " [    26  72000]\n",
            " [    27  31000]\n",
            " [    27  17000]\n",
            " [    33  51000]\n",
            " [    35 108000]\n",
            " [    30  15000]\n",
            " [    28  84000]\n",
            " [    23  20000]\n",
            " [    25  79000]\n",
            " [    27  54000]\n",
            " [    30 135000]\n",
            " [    31  89000]\n",
            " [    24  32000]\n",
            " [    18  44000]\n",
            " [    29  83000]\n",
            " [    35  23000]\n",
            " [    27  58000]\n",
            " [    24  55000]\n",
            " [    23  48000]\n",
            " [    28  79000]\n",
            " [    22  18000]\n",
            " [    32 117000]\n",
            " [    27  20000]\n",
            " [    25  87000]\n",
            " [    23  66000]\n",
            " [    32 120000]\n",
            " [    59  83000]\n",
            " [    24  58000]\n",
            " [    24  19000]\n",
            " [    23  82000]\n",
            " [    22 110000]\n",
            " [    31  68000]\n",
            " [    25  80000]\n",
            " [    24  27000]\n",
            " [    20  23000]\n",
            " [    33 113000]\n",
            " [    32  18000]\n",
            " [    34 112000]\n",
            " [    18  52000]\n",
            " [    22  27000]\n",
            " [    28  87000]\n",
            " [    26  17000]\n",
            " [    30  80000]\n",
            " [    39  42000]\n",
            " [    20  49000]\n",
            " [    35  88000]\n",
            " [    30  62000]\n",
            " [    31 118000]\n",
            " [    24  55000]\n",
            " [    28  85000]\n",
            " [    26  81000]\n",
            " [    35  50000]\n",
            " [    22  81000]\n",
            " [    30 116000]\n",
            " [    26  15000]\n",
            " [    29  28000]\n",
            " [    29  83000]\n",
            " [    35  44000]\n",
            " [    35  25000]\n",
            " [    28 123000]\n",
            " [    35  73000]\n",
            " [    28  37000]\n",
            " [    27  88000]\n",
            " [    28  59000]\n",
            " [    32  86000]\n",
            " [    33 149000]\n",
            " [    19  21000]\n",
            " [    21  72000]\n",
            " [    26  35000]\n",
            " [    27  89000]\n",
            " [    26  86000]\n",
            " [    38  80000]\n",
            " [    39  71000]\n",
            " [    37  71000]\n",
            " [    38  61000]\n",
            " [    37  55000]\n",
            " [    42  80000]\n",
            " [    40  57000]\n",
            " [    35  75000]\n",
            " [    36  52000]\n",
            " [    40  59000]\n",
            " [    41  59000]\n",
            " [    36  75000]\n",
            " [    37  72000]\n",
            " [    40  75000]\n",
            " [    35  53000]\n",
            " [    41  51000]\n",
            " [    39  61000]\n",
            " [    42  65000]\n",
            " [    26  32000]\n",
            " [    30  17000]\n",
            " [    26  84000]\n",
            " [    31  58000]\n",
            " [    33  31000]\n",
            " [    30  87000]\n",
            " [    21  68000]\n",
            " [    28  55000]\n",
            " [    23  63000]\n",
            " [    20  82000]\n",
            " [    30 107000]\n",
            " [    28  59000]\n",
            " [    19  25000]\n",
            " [    19  85000]\n",
            " [    18  68000]\n",
            " [    35  59000]\n",
            " [    30  89000]\n",
            " [    34  25000]\n",
            " [    24  89000]\n",
            " [    27  96000]\n",
            " [    41  30000]\n",
            " [    29  61000]\n",
            " [    20  74000]\n",
            " [    26  15000]\n",
            " [    41  45000]\n",
            " [    31  76000]\n",
            " [    36  50000]\n",
            " [    40  47000]\n",
            " [    31  15000]\n",
            " [    46  59000]\n",
            " [    29  75000]\n",
            " [    26  30000]\n",
            " [    32 135000]\n",
            " [    32 100000]\n",
            " [    25  90000]\n",
            " [    37  33000]\n",
            " [    35  38000]\n",
            " [    33  69000]\n",
            " [    18  86000]\n",
            " [    22  55000]\n",
            " [    35  71000]\n",
            " [    29 148000]\n",
            " [    29  47000]\n",
            " [    21  88000]\n",
            " [    34 115000]\n",
            " [    26 118000]\n",
            " [    34  43000]\n",
            " [    34  72000]\n",
            " [    23  28000]\n",
            " [    35  47000]\n",
            " [    25  22000]\n",
            " [    24  23000]\n",
            " [    31  34000]\n",
            " [    26  16000]\n",
            " [    31  71000]\n",
            " [    32 117000]\n",
            " [    33  43000]\n",
            " [    33  60000]\n",
            " [    31  66000]\n",
            " [    20  82000]\n",
            " [    33  41000]\n",
            " [    35  72000]\n",
            " [    28  32000]\n",
            " [    24  84000]\n",
            " [    19  26000]\n",
            " [    29  43000]\n",
            " [    19  70000]\n",
            " [    28  89000]\n",
            " [    34  43000]\n",
            " [    30  79000]\n",
            " [    20  36000]\n",
            " [    26  80000]\n",
            " [    35  22000]]\n"
          ],
          "name": "stdout"
        }
      ]
    },
    {
      "cell_type": "code",
      "metadata": {
        "colab": {
          "base_uri": "https://localhost:8080/"
        },
        "id": "DvbnbqwngSe9",
        "outputId": "fc350c1a-94d1-4b45-f604-203fa91effbb"
      },
      "source": [
        "print(y)"
      ],
      "execution_count": 4,
      "outputs": [
        {
          "output_type": "stream",
          "text": [
            "[0 0 0 0 0 0 0 1 0 0 0 0 0 0 0 0 1 1 1 1 1 1 1 1 1 1 1 1 0 0 0 1 0 0 0 0 0\n",
            " 0 0 0 0 0 0 0 0 0 0 0 1 0 0 0 0 0 0 0 0 0 0 0 0 0 0 1 0 0 0 0 0 0 0 0 0 0\n",
            " 0 1 0 0 0 0 0 0 0 0 0 1 0 0 0 0 0 0 0 0 0 0 0 1 0 0 0 0 0 1 0 0 0 0 0 0 0\n",
            " 0 0 0 0 0 0 0 0 0 0 0 0 0 0 0 0 0 0 0 0 0 0 0 0 0 0 1 0 0 0 0 0 0 0 0 1 0\n",
            " 0 0 0 0 0 0 0 0 0 0 0 1 1 0 0 0 0 0 0 0 1 0 0 0 0 0 0 0 0 0 0 0 0 0 1 0 0\n",
            " 0 0 0 0 0 0 0 0 0 0 0 0 0 0 0]\n"
          ],
          "name": "stdout"
        }
      ]
    },
    {
      "cell_type": "code",
      "metadata": {
        "id": "B4sAkaN2gT68"
      },
      "source": [
        "from sklearn.model_selection import train_test_split\n",
        "x_train, x_test, y_train, y_test = train_test_split(x, y, test_size = 0.25, random_state = 0)"
      ],
      "execution_count": 5,
      "outputs": []
    },
    {
      "cell_type": "code",
      "metadata": {
        "colab": {
          "base_uri": "https://localhost:8080/"
        },
        "id": "nyiqmTJqgXTU",
        "outputId": "58a21b67-2343-4c36-b6db-0a29452d8a72"
      },
      "source": [
        "print(x_train)"
      ],
      "execution_count": 6,
      "outputs": [
        {
          "output_type": "stream",
          "text": [
            "[[    24  27000]\n",
            " [    41  51000]\n",
            " [    33  60000]\n",
            " [    28 123000]\n",
            " [    20  74000]\n",
            " [    46  23000]\n",
            " [    31  74000]\n",
            " [    32 100000]\n",
            " [    27  17000]\n",
            " [    23  48000]\n",
            " [    33  31000]\n",
            " [    35  25000]\n",
            " [    31  71000]\n",
            " [    48  29000]\n",
            " [    36  50000]\n",
            " [    26  15000]\n",
            " [    27  58000]\n",
            " [    35  38000]\n",
            " [    18  44000]\n",
            " [    24  55000]\n",
            " [    19  25000]\n",
            " [    22  81000]\n",
            " [    30 107000]\n",
            " [    28  59000]\n",
            " [    34  25000]\n",
            " [    35  50000]\n",
            " [    38  80000]\n",
            " [    18  82000]\n",
            " [    47  30000]\n",
            " [    18  68000]\n",
            " [    33  41000]\n",
            " [    25  79000]\n",
            " [    28  59000]\n",
            " [    34  43000]\n",
            " [    26  86000]\n",
            " [    23  66000]\n",
            " [    26  43000]\n",
            " [    32 117000]\n",
            " [    20  82000]\n",
            " [    20  36000]\n",
            " [    30  15000]\n",
            " [    26  80000]\n",
            " [    28  89000]\n",
            " [    33 113000]\n",
            " [    30  79000]\n",
            " [    24  23000]\n",
            " [    23  28000]\n",
            " [    42  65000]\n",
            " [    29  28000]\n",
            " [    38  61000]\n",
            " [    26  30000]\n",
            " [    19  26000]\n",
            " [    24  32000]\n",
            " [    19  19000]\n",
            " [    29  83000]\n",
            " [    39  71000]\n",
            " [    35  44000]\n",
            " [    59  83000]\n",
            " [    35  71000]\n",
            " [    33  51000]\n",
            " [    31  68000]\n",
            " [    31  89000]\n",
            " [    30 135000]\n",
            " [    31 118000]\n",
            " [    32  18000]\n",
            " [    25  90000]\n",
            " [    45  22000]\n",
            " [    20  82000]\n",
            " [    23  63000]\n",
            " [    45  22000]\n",
            " [    29  80000]\n",
            " [    28  87000]\n",
            " [    19  21000]\n",
            " [    29  83000]\n",
            " [    27  88000]\n",
            " [    18  52000]\n",
            " [    27  57000]\n",
            " [    35  75000]\n",
            " [    33  69000]\n",
            " [    26  80000]\n",
            " [    27  84000]\n",
            " [    22 110000]\n",
            " [    30  62000]\n",
            " [    37  72000]\n",
            " [    31  15000]\n",
            " [    34 115000]\n",
            " [    46  59000]\n",
            " [    30 116000]\n",
            " [    35  22000]\n",
            " [    26  52000]\n",
            " [    41  59000]\n",
            " [    32  86000]\n",
            " [    35  27000]\n",
            " [    28  79000]\n",
            " [    24  58000]\n",
            " [    35  20000]\n",
            " [    36  75000]\n",
            " [    37  33000]\n",
            " [    35 108000]\n",
            " [    21  72000]\n",
            " [    30  87000]\n",
            " [    34  43000]\n",
            " [    45  26000]\n",
            " [    26  72000]\n",
            " [    21  68000]\n",
            " [    35  23000]\n",
            " [    29  75000]\n",
            " [    30  17000]\n",
            " [    27  90000]\n",
            " [    29  43000]\n",
            " [    42  80000]\n",
            " [    41  45000]\n",
            " [    27 137000]\n",
            " [    22  55000]\n",
            " [    26  32000]\n",
            " [    35  47000]\n",
            " [    21  16000]\n",
            " [    35  59000]\n",
            " [    29  47000]\n",
            " [    41  30000]\n",
            " [    31  18000]\n",
            " [    28  37000]\n",
            " [    20  49000]\n",
            " [    26  17000]\n",
            " [    40  57000]\n",
            " [    29  61000]\n",
            " [    19  70000]\n",
            " [    20  23000]\n",
            " [    22  27000]\n",
            " [    47  20000]\n",
            " [    18  86000]\n",
            " [    39  42000]\n",
            " [    35  72000]\n",
            " [    34  72000]\n",
            " [    24  84000]\n",
            " [    27  31000]\n",
            " [    22  18000]\n",
            " [    19  85000]\n",
            " [    26  81000]\n",
            " [    25  80000]\n",
            " [    28  85000]\n",
            " [    33  28000]\n",
            " [    47  49000]\n",
            " [    35  65000]\n",
            " [    33 149000]\n",
            " [    23  82000]\n",
            " [    29  43000]\n",
            " [    36  52000]\n",
            " [    27  54000]\n",
            " [    26 118000]]\n"
          ],
          "name": "stdout"
        }
      ]
    },
    {
      "cell_type": "code",
      "metadata": {
        "colab": {
          "base_uri": "https://localhost:8080/"
        },
        "id": "VQ76-iuKgZmd",
        "outputId": "33ae6202-ac9b-441b-c0c0-c61cfb24688d"
      },
      "source": [
        "print(x_test)"
      ],
      "execution_count": 7,
      "outputs": [
        {
          "output_type": "stream",
          "text": [
            "[[    46  28000]\n",
            " [    21  88000]\n",
            " [    27  89000]\n",
            " [    35  73000]\n",
            " [    25  22000]\n",
            " [    32 117000]\n",
            " [    27  58000]\n",
            " [    27  96000]\n",
            " [    20  86000]\n",
            " [    31  76000]\n",
            " [    25  87000]\n",
            " [    39  61000]\n",
            " [    26  16000]\n",
            " [    40  47000]\n",
            " [    30  80000]\n",
            " [    32 150000]\n",
            " [    28  44000]\n",
            " [    31  58000]\n",
            " [    30  49000]\n",
            " [    32  18000]\n",
            " [    33  43000]\n",
            " [    24  89000]\n",
            " [    23  20000]\n",
            " [    32 135000]\n",
            " [    27  20000]\n",
            " [    35  53000]\n",
            " [    31  34000]\n",
            " [    31  66000]\n",
            " [    40  75000]\n",
            " [    28  84000]\n",
            " [    47  25000]\n",
            " [    24  55000]\n",
            " [    26  15000]\n",
            " [    37  71000]\n",
            " [    48  41000]\n",
            " [    28  32000]\n",
            " [    26  84000]\n",
            " [    19  76000]\n",
            " [    35  88000]\n",
            " [    26  35000]\n",
            " [    28  55000]\n",
            " [    24  19000]\n",
            " [    49  28000]\n",
            " [    37  55000]\n",
            " [    29 148000]\n",
            " [    32 120000]\n",
            " [    25  33000]\n",
            " [    34 112000]\n",
            " [    40  59000]\n",
            " [    30  89000]]\n"
          ],
          "name": "stdout"
        }
      ]
    },
    {
      "cell_type": "code",
      "metadata": {
        "colab": {
          "base_uri": "https://localhost:8080/"
        },
        "id": "OOrX8EfJgdfH",
        "outputId": "a0bff0ad-63d7-456b-a71c-b88d2b3586ae"
      },
      "source": [
        "print(y_train)"
      ],
      "execution_count": 8,
      "outputs": [
        {
          "output_type": "stream",
          "text": [
            "[0 0 0 1 0 1 0 1 0 0 0 0 0 1 0 0 0 0 0 0 0 0 1 0 0 0 0 0 1 0 0 0 0 0 0 0 0\n",
            " 0 0 0 0 0 0 0 0 0 0 0 0 0 0 0 0 0 0 0 0 0 0 0 0 0 1 1 0 0 1 0 0 1 0 0 0 0\n",
            " 0 0 0 0 0 0 0 0 0 0 0 0 0 0 0 0 0 0 0 0 0 0 0 0 0 0 0 0 1 0 0 0 0 0 0 0 0\n",
            " 0 1 0 0 0 0 0 0 0 0 0 0 0 0 0 0 0 0 1 0 0 0 0 0 0 0 0 0 0 0 0 1 0 1 0 0 0\n",
            " 0 0]\n"
          ],
          "name": "stdout"
        }
      ]
    },
    {
      "cell_type": "code",
      "metadata": {
        "colab": {
          "base_uri": "https://localhost:8080/"
        },
        "id": "JDiok8zKgojy",
        "outputId": "32e682fd-9f27-49b7-a0e8-33be93c5345a"
      },
      "source": [
        "print(y_test)"
      ],
      "execution_count": 9,
      "outputs": [
        {
          "output_type": "stream",
          "text": [
            "[1 0 0 0 0 1 0 1 0 0 0 0 0 0 0 1 0 0 0 0 0 0 0 1 0 0 0 0 0 0 1 0 0 0 1 0 0\n",
            " 0 0 0 0 0 1 0 1 1 0 1 0 0]\n"
          ],
          "name": "stdout"
        }
      ]
    },
    {
      "cell_type": "code",
      "metadata": {
        "id": "DsjloLi2gqzH"
      },
      "source": [
        "from sklearn.preprocessing import  StandardScaler\n",
        "sc = StandardScaler()\n",
        "x_train = sc.fit_transform(x_train)\n",
        "x_test = sc.fit_transform(x_test)"
      ],
      "execution_count": 10,
      "outputs": []
    },
    {
      "cell_type": "code",
      "metadata": {
        "colab": {
          "base_uri": "https://localhost:8080/"
        },
        "id": "cldnHufHgsyu",
        "outputId": "9e2090fc-ec6b-46d9-ce37-7f9eb032d8eb"
      },
      "source": [
        "print(x_train)"
      ],
      "execution_count": 11,
      "outputs": [
        {
          "output_type": "stream",
          "text": [
            "[[-0.80498053 -1.09522961]\n",
            " [ 1.4408623  -0.28776973]\n",
            " [ 0.38399509  0.01502773]\n",
            " [-0.27654692  2.13460991]\n",
            " [-1.33341413  0.48604599]\n",
            " [ 2.1014043  -1.22980626]\n",
            " [ 0.11977828  0.48604599]\n",
            " [ 0.25188669  1.36079419]\n",
            " [-0.40865532 -1.43167123]\n",
            " [-0.93708893 -0.38870221]\n",
            " [ 0.38399509 -0.96065296]\n",
            " [ 0.64821189 -1.16251793]\n",
            " [ 0.11977828  0.3851135 ]\n",
            " [ 2.36562111 -1.02794129]\n",
            " [ 0.78032029 -0.32141389]\n",
            " [-0.54076372 -1.49895955]\n",
            " [-0.40865532 -0.0522606 ]\n",
            " [ 0.64821189 -0.72514383]\n",
            " [-1.59763093 -0.52327886]\n",
            " [-0.80498053 -0.15319308]\n",
            " [-1.46552253 -1.16251793]\n",
            " [-1.06919733  0.72155512]\n",
            " [-0.01233012  1.59630333]\n",
            " [-0.27654692 -0.01861644]\n",
            " [ 0.51610349 -1.16251793]\n",
            " [ 0.64821189 -0.32141389]\n",
            " [ 1.04453709  0.68791096]\n",
            " [-1.59763093  0.75519928]\n",
            " [ 2.2335127  -0.99429713]\n",
            " [-1.59763093  0.28418102]\n",
            " [ 0.38399509 -0.62421135]\n",
            " [-0.67287212  0.6542668 ]\n",
            " [-0.27654692 -0.01861644]\n",
            " [ 0.51610349 -0.55692302]\n",
            " [-0.54076372  0.88977593]\n",
            " [-0.93708893  0.2168927 ]\n",
            " [-0.54076372 -0.55692302]\n",
            " [ 0.25188669  1.93274494]\n",
            " [-1.33341413  0.75519928]\n",
            " [-1.33341413 -0.79243216]\n",
            " [-0.01233012 -1.49895955]\n",
            " [-0.54076372  0.68791096]\n",
            " [-0.27654692  0.99070841]\n",
            " [ 0.38399509  1.7981683 ]\n",
            " [-0.01233012  0.6542668 ]\n",
            " [-0.80498053 -1.22980626]\n",
            " [-0.93708893 -1.06158545]\n",
            " [ 1.5729707   0.18324853]\n",
            " [-0.14443852 -1.06158545]\n",
            " [ 1.04453709  0.04867189]\n",
            " [-0.54076372 -0.99429713]\n",
            " [-1.46552253 -1.12887377]\n",
            " [-0.80498053 -0.9270088 ]\n",
            " [-1.46552253 -1.3643829 ]\n",
            " [-0.14443852  0.78884344]\n",
            " [ 1.17664549  0.3851135 ]\n",
            " [ 0.64821189 -0.52327886]\n",
            " [ 3.81881352  0.78884344]\n",
            " [ 0.64821189  0.3851135 ]\n",
            " [ 0.38399509 -0.28776973]\n",
            " [ 0.11977828  0.28418102]\n",
            " [ 0.11977828  0.99070841]\n",
            " [-0.01233012  2.53833985]\n",
            " [ 0.11977828  1.9663891 ]\n",
            " [ 0.25188669 -1.39802707]\n",
            " [-0.67287212  1.02435258]\n",
            " [ 1.9692959  -1.26345042]\n",
            " [-1.33341413  0.75519928]\n",
            " [-0.93708893  0.11596021]\n",
            " [ 1.9692959  -1.26345042]\n",
            " [-0.14443852  0.68791096]\n",
            " [-0.27654692  0.92342009]\n",
            " [-1.46552253 -1.29709458]\n",
            " [-0.14443852  0.78884344]\n",
            " [-0.40865532  0.95706425]\n",
            " [-1.59763093 -0.25412557]\n",
            " [-0.40865532 -0.08590476]\n",
            " [ 0.64821189  0.51969015]\n",
            " [ 0.38399509  0.31782518]\n",
            " [-0.54076372  0.68791096]\n",
            " [-0.40865532  0.82248761]\n",
            " [-1.06919733  1.69723581]\n",
            " [-0.01233012  0.08231605]\n",
            " [ 0.91242869  0.41875767]\n",
            " [ 0.11977828 -1.49895955]\n",
            " [ 0.51610349  1.86545662]\n",
            " [ 2.1014043  -0.01861644]\n",
            " [-0.01233012  1.89910078]\n",
            " [ 0.64821189 -1.26345042]\n",
            " [-0.54076372 -0.25412557]\n",
            " [ 1.4408623  -0.01861644]\n",
            " [ 0.25188669  0.88977593]\n",
            " [ 0.64821189 -1.09522961]\n",
            " [-0.27654692  0.6542668 ]\n",
            " [-0.80498053 -0.0522606 ]\n",
            " [ 0.64821189 -1.33073874]\n",
            " [ 0.78032029  0.51969015]\n",
            " [ 0.91242869 -0.89336464]\n",
            " [ 0.64821189  1.62994749]\n",
            " [-1.20130573  0.41875767]\n",
            " [-0.01233012  0.92342009]\n",
            " [ 0.51610349 -0.55692302]\n",
            " [ 1.9692959  -1.12887377]\n",
            " [-0.54076372  0.41875767]\n",
            " [-1.20130573  0.28418102]\n",
            " [ 0.64821189 -1.22980626]\n",
            " [-0.14443852  0.51969015]\n",
            " [-0.01233012 -1.43167123]\n",
            " [-0.40865532  1.02435258]\n",
            " [-0.14443852 -0.55692302]\n",
            " [ 1.5729707   0.68791096]\n",
            " [ 1.4408623  -0.4896347 ]\n",
            " [-0.40865532  2.60562818]\n",
            " [-1.06919733 -0.15319308]\n",
            " [-0.54076372 -0.9270088 ]\n",
            " [ 0.64821189 -0.42234638]\n",
            " [-1.20130573 -1.46531539]\n",
            " [ 0.64821189 -0.01861644]\n",
            " [-0.14443852 -0.42234638]\n",
            " [ 1.4408623  -0.99429713]\n",
            " [ 0.11977828 -1.39802707]\n",
            " [-0.27654692 -0.75878799]\n",
            " [-1.33341413 -0.35505805]\n",
            " [-0.54076372 -1.43167123]\n",
            " [ 1.3087539  -0.08590476]\n",
            " [-0.14443852  0.04867189]\n",
            " [-1.46552253  0.35146934]\n",
            " [-1.33341413 -1.22980626]\n",
            " [-1.06919733 -1.09522961]\n",
            " [ 2.2335127  -1.33073874]\n",
            " [-1.59763093  0.88977593]\n",
            " [ 1.17664549 -0.59056719]\n",
            " [ 0.64821189  0.41875767]\n",
            " [ 0.51610349  0.41875767]\n",
            " [-0.80498053  0.82248761]\n",
            " [-0.40865532 -0.96065296]\n",
            " [-1.06919733 -1.39802707]\n",
            " [-1.46552253  0.85613177]\n",
            " [-0.54076372  0.72155512]\n",
            " [-0.67287212  0.68791096]\n",
            " [-0.27654692  0.85613177]\n",
            " [ 0.38399509 -1.06158545]\n",
            " [ 2.2335127  -0.35505805]\n",
            " [ 0.64821189  0.18324853]\n",
            " [ 0.38399509  3.00935812]\n",
            " [-0.93708893  0.75519928]\n",
            " [-0.14443852 -0.55692302]\n",
            " [ 0.78032029 -0.25412557]\n",
            " [-0.40865532 -0.18683724]\n",
            " [-0.54076372  1.9663891 ]]\n"
          ],
          "name": "stdout"
        }
      ]
    },
    {
      "cell_type": "code",
      "metadata": {
        "colab": {
          "base_uri": "https://localhost:8080/"
        },
        "id": "DuHq2pekgwnq",
        "outputId": "7fe6794f-5a25-4ce0-d0ec-a1a6f8e12acd"
      },
      "source": [
        "print(x_test)"
      ],
      "execution_count": 12,
      "outputs": [
        {
          "output_type": "stream",
          "text": [
            "[[ 2.14595499 -1.0484551 ]\n",
            " [-1.44019974  0.69703064]\n",
            " [-0.5795226   0.72612206]\n",
            " [ 0.56804691  0.2606592 ]\n",
            " [-0.86641498 -1.22300367]\n",
            " [ 0.13770834  1.54068207]\n",
            " [-0.5795226  -0.17571223]\n",
            " [-0.5795226   0.92976207]\n",
            " [-1.58364593  0.63884778]\n",
            " [-0.00573785  0.34793349]\n",
            " [-0.86641498  0.66793921]\n",
            " [ 1.14183166 -0.08843794]\n",
            " [-0.72296879 -1.39755224]\n",
            " [ 1.28527785 -0.49571795]\n",
            " [-0.14918404  0.4642992 ]\n",
            " [ 0.13770834  2.50069923]\n",
            " [-0.43607641 -0.58299223]\n",
            " [-0.00573785 -0.17571223]\n",
            " [-0.14918404 -0.43753509]\n",
            " [ 0.13770834 -1.33936939]\n",
            " [ 0.28115453 -0.61208366]\n",
            " [-1.00986117  0.72612206]\n",
            " [-1.15330736 -1.28118653]\n",
            " [ 0.13770834  2.06432779]\n",
            " [-0.5795226  -1.28118653]\n",
            " [ 0.56804691 -0.32116937]\n",
            " [-0.00573785 -0.87390652]\n",
            " [-0.00573785  0.0570192 ]\n",
            " [ 1.28527785  0.31884206]\n",
            " [-0.43607641  0.58066492]\n",
            " [ 2.28940118 -1.13572938]\n",
            " [-1.00986117 -0.26298652]\n",
            " [-0.72296879 -1.42664367]\n",
            " [ 0.85493929  0.20247634]\n",
            " [ 2.43284736 -0.67026652]\n",
            " [-0.43607641 -0.93208938]\n",
            " [-0.72296879  0.58066492]\n",
            " [-1.72709211  0.34793349]\n",
            " [ 0.56804691  0.69703064]\n",
            " [-0.72296879 -0.84481509]\n",
            " [-0.43607641 -0.26298652]\n",
            " [-1.00986117 -1.31027796]\n",
            " [ 2.57629355 -1.0484551 ]\n",
            " [ 0.85493929 -0.26298652]\n",
            " [-0.29263023  2.44251637]\n",
            " [ 0.13770834  1.62795636]\n",
            " [-0.86641498 -0.90299795]\n",
            " [ 0.42460072  1.39522493]\n",
            " [ 1.28527785 -0.1466208 ]\n",
            " [-0.14918404  0.72612206]]\n"
          ],
          "name": "stdout"
        }
      ]
    },
    {
      "cell_type": "code",
      "metadata": {
        "colab": {
          "base_uri": "https://localhost:8080/"
        },
        "id": "gc8vWGQRg1pr",
        "outputId": "53936f34-ee06-4b0c-c593-1a8eadff76e8"
      },
      "source": [
        "from sklearn.neighbors import KNeighborsClassifier\n",
        "classifier = KNeighborsClassifier(n_neighbors = 5, metric = 'minkowski', p = 2)\n",
        "classifier.fit(x_train,y_train)"
      ],
      "execution_count": 13,
      "outputs": [
        {
          "output_type": "execute_result",
          "data": {
            "text/plain": [
              "KNeighborsClassifier(algorithm='auto', leaf_size=30, metric='minkowski',\n",
              "                     metric_params=None, n_jobs=None, n_neighbors=5, p=2,\n",
              "                     weights='uniform')"
            ]
          },
          "metadata": {
            "tags": []
          },
          "execution_count": 13
        }
      ]
    },
    {
      "cell_type": "code",
      "metadata": {
        "id": "ZeTDjQTxg2z9"
      },
      "source": [
        "y_pred = classifier.predict(x_test)"
      ],
      "execution_count": 14,
      "outputs": []
    },
    {
      "cell_type": "code",
      "metadata": {
        "colab": {
          "base_uri": "https://localhost:8080/"
        },
        "id": "VdUZyPlXg7bO",
        "outputId": "f3a14b72-2a40-4baa-a348-04920ec07ba7"
      },
      "source": [
        "from sklearn.metrics import confusion_matrix\n",
        "cm = confusion_matrix(y_test, y_pred)\n",
        "print(cm)"
      ],
      "execution_count": 15,
      "outputs": [
        {
          "output_type": "stream",
          "text": [
            "[[39  0]\n",
            " [ 5  6]]\n"
          ],
          "name": "stdout"
        }
      ]
    },
    {
      "cell_type": "code",
      "metadata": {
        "colab": {
          "base_uri": "https://localhost:8080/",
          "height": 349
        },
        "id": "W-Gtwu06g-R2",
        "outputId": "f048d8f9-21c5-432a-e36d-69619844062f"
      },
      "source": [
        "from matplotlib.colors import ListedColormap\n",
        "x_set, y_set = x_train, y_train\n",
        "x1, x2 = np.meshgrid(np.arange(start = x_set[:, 0].min()-1, stop = x_set[:,0].max()+1, step=0.01),\n",
        "                     np.arange(start = x_set[:, 1].min()-1, stop = x_set[:,1].max()+1, step=0.01))\n",
        "plt.contourf(x1,x2, classifier.predict(np.array([x1.ravel(), x2.ravel()]).T).reshape(x1.shape),\n",
        "              alpha = 0.75, cmap = ListedColormap(('red', 'green')))\n",
        "plt.xlim(x1.min(), x1.max())\n",
        "plt.ylim(x2.min(), x2.max())\n",
        "for i, j in enumerate (np.unique(y_set)):\n",
        "    plt.scatter(x_set[y_set == j, 0], x_set[y_set == j, 1],\n",
        "                c = ListedColormap(('red', 'green'))(i), label = j)\n",
        "plt.title('K-NN (Training Set)')\n",
        "plt.xlabel('Age')\n",
        "plt.ylabel('Estimated Salary')\n",
        "plt.legend()\n",
        "plt.show()"
      ],
      "execution_count": 18,
      "outputs": [
        {
          "output_type": "stream",
          "text": [
            "*c* argument looks like a single numeric RGB or RGBA sequence, which should be avoided as value-mapping will have precedence in case its length matches with *x* & *y*.  Please use the *color* keyword-argument or provide a 2-D array with a single row if you intend to specify the same RGB or RGBA value for all points.\n",
            "*c* argument looks like a single numeric RGB or RGBA sequence, which should be avoided as value-mapping will have precedence in case its length matches with *x* & *y*.  Please use the *color* keyword-argument or provide a 2-D array with a single row if you intend to specify the same RGB or RGBA value for all points.\n"
          ],
          "name": "stderr"
        },
        {
          "output_type": "display_data",
          "data": {
            "image/png": "[encoded data removed]",
            "text/plain": [
              "<Figure size 432x288 with 1 Axes>"
            ]
          },
          "metadata": {
            "tags": [],
            "needs_background": "light"
          }
        }
      ]
    }
  ]
}